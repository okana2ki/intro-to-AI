{
  "nbformat": 4,
  "nbformat_minor": 0,
  "metadata": {
    "colab": {
      "provenance": [],
      "toc_visible": true,
      "mount_file_id": "1FKjHohLAUPtE-DZhOgdttltYZh9SbQAQ",
      "authorship_tag": "ABX9TyMl3xFPYsGHELu6ZZ4eqJzv",
      "include_colab_link": true
    },
    "kernelspec": {
      "name": "python3",
      "display_name": "Python 3"
    },
    "language_info": {
      "name": "python"
    }
  },
  "cells": [
    {
      "cell_type": "markdown",
      "metadata": {
        "id": "view-in-github",
        "colab_type": "text"
      },
      "source": [
        "<a href=\"https://colab.research.google.com/github/okana2ki/intro-to-AI/blob/main/team_allocaion.ipynb\" target=\"_parent\"><img src=\"https://colab.research.google.com/assets/colab-badge.svg\" alt=\"Open In Colab\"/></a>"
      ]
    },
    {
      "cell_type": "markdown",
      "source": [
        "# Text Embeddingを用いたチーム編成"
      ],
      "metadata": {
        "id": "rNGdmniviOAY"
      }
    },
    {
      "cell_type": "markdown",
      "source": [
        "## 準備"
      ],
      "metadata": {
        "id": "94mUM85oV5BF"
      }
    },
    {
      "cell_type": "markdown",
      "source": [
        "### 日本語で利用可能なtext embeddingモデルの例"
      ],
      "metadata": {
        "id": "CIF1pfaKTC_D"
      }
    },
    {
      "cell_type": "markdown",
      "source": [
        "以下は、日本語で利用可能なtext embeddingモデルの例です（出典：NLP204チュートリアル, 松田寛）\n",
        "\n",
        "日本語のモデル：\n",
        "\n",
        "[SimCSE](https://aclanthology.org/2021.emnlp-main.552/), Gao+ (2021/04)\n",
        "をベースにしたもの\n",
        "\n",
        "> [Japanese SimCSE (BERT-base)](https://huggingface.co/pkshatech/simcse-ja-bert-base-clcmlp/blob/main/README_JA.md) (2022/12)\n",
        "\n",
        "> [Japanese Simple-SimCSE](https://github.com/hppRC/simple-simcse-ja?tab=readme-ov-file), Tsukagoshi+ (2023/10)\n",
        "\n",
        "[ColBERT](https://arxiv.org/abs/2004.12832), Khattab+ (2020/04)\n",
        "をベースにしたもの\n",
        "\n",
        "> [JaColBERT](https://huggingface.co/bclavie/JaColBERT), Clavié (2023/12)\n",
        "\n",
        "多言語モデルの例：\n",
        "\n",
        "> [multilingual-e5-large](https://huggingface.co/intfloat/multilingual-e5-large), Wang+ (2024/02)\n"
      ],
      "metadata": {
        "id": "B1djts_skoHL"
      }
    },
    {
      "cell_type": "markdown",
      "source": [
        "### Japanese SimCSE (BERT-base) モデルのロード"
      ],
      "metadata": {
        "id": "7E_Tq2eWTS-7"
      }
    },
    {
      "cell_type": "markdown",
      "source": [
        " このノートブックでは、text embeddingモデルとして、[Japanese SimCSE (BERT-base) ](https://huggingface.co/pkshatech/simcse-ja-bert-base-clcmlp/blob/main/README_JA.md) を使用します。\n",
        "\n",
        " sentence-transformersを使って、このモデルを簡単に利用することができます。トークナイズのために、fugashiとunidic-liteが必要です。まず、下記のように、pipでsentence-transformersとfugashi, unidic-liteをインストールします。"
      ],
      "metadata": {
        "id": "5hURi1rLktw0"
      }
    },
    {
      "cell_type": "code",
      "execution_count": null,
      "metadata": {
        "id": "Bg6q6djciIHi"
      },
      "outputs": [],
      "source": [
        "!pip install -U fugashi[unidic-lite]\n",
        "!pip install -U sentence-transformers"
      ]
    },
    {
      "cell_type": "code",
      "source": [
        "from sentence_transformers import SentenceTransformer\n",
        "\n",
        "model = SentenceTransformer('pkshatech/simcse-ja-bert-base-clcmlp')"
      ],
      "metadata": {
        "id": "6eUWyVSOGTSa"
      },
      "execution_count": null,
      "outputs": []
    },
    {
      "cell_type": "markdown",
      "source": [
        "### モデルを利用した埋め込み (embedding) 作成例"
      ],
      "metadata": {
        "id": "g-J10qcJUKg_"
      }
    },
    {
      "cell_type": "code",
      "source": [
        "sentences = [\n",
        "    \"PKSHA Technologyは機械学習/深層学習技術に関わるアルゴリズムソリューションを展開している。\",\n",
        "    \"この深層学習モデルはPKSHA Technologyによって学習され、公開された。\",\n",
        "    \"広目天は、仏教における四天王の一尊であり、サンスクリット語の「種々の眼をした者」を名前の由来とする。\",\n",
        "]\n",
        "\n",
        "embeddings = model.encode(sentences)\n",
        "print(embeddings)"
      ],
      "metadata": {
        "id": "AdppjDgYIqdP"
      },
      "execution_count": null,
      "outputs": []
    },
    {
      "cell_type": "markdown",
      "source": [
        "### 類似度はcosine類似度がお勧め\n",
        "\n",
        "Japanese SimCSE (BERT-base) モデルは、学習時の損失関数にcosine類似度を使っているため、下流のタスクで**cosine類似度を類似度計算に使うことをおすすめ**します。とのとです。"
      ],
      "metadata": {
        "id": "NleuiRLrU9Vd"
      }
    },
    {
      "cell_type": "markdown",
      "source": [
        "## アンケート情報の読み込みと埋め込みへの変換"
      ],
      "metadata": {
        "id": "cXGPlraJVyEr"
      }
    },
    {
      "cell_type": "code",
      "source": [
        "# prompt: グーグルドライブ上のCSVファイルを読み込む\n",
        "\n",
        "from google.colab import drive\n",
        "import pandas as pd\n",
        "\n",
        "# Google Driveをマウント\n",
        "drive.mount('/content/drive')\n",
        "\n",
        "# CSVファイルのパスを指定\n",
        "file_path = '/content/drive/MyDrive/genai4e/form_data.csv' # ここに自分のファイルパスを指定してください\n",
        "\n",
        "# CSVファイルを読み込む\n",
        "try:\n",
        "  df = pd.read_csv(file_path)\n",
        "except FileNotFoundError:\n",
        "  print(f\"Error: File not found at {file_path}\")\n",
        "  exit()\n",
        "except pd.errors.ParserError:\n",
        "  print(f\"Error: Could not parse the CSV file at {file_path}. Check the file format.\")\n",
        "  exit()\n",
        "\n",
        "#アンケートのテキストデータの列名を指定してください\n",
        "#text_column = 'text' # 例: 'アンケート回答'\n",
        "text_column = df.columns[2]  # 左から3列目を指定\n",
        "\n",
        "# テキストデータをエンコード\n",
        "if text_column in df.columns:\n",
        "    embeddings = model.encode(df[text_column].tolist())\n",
        "    df['embeddings'] = embeddings.tolist() # エンベディングを新しい列として追加\n",
        "    print(df.head())\n",
        "else:\n",
        "  print(f\"Error: Column '{text_column}' not found in the CSV file.\")\n"
      ],
      "metadata": {
        "colab": {
          "base_uri": "https://localhost:8080/"
        },
        "id": "lJhjkC7DslNR",
        "outputId": "70474199-46f5-4e66-eb39-7d7f0451a1e7"
      },
      "execution_count": 4,
      "outputs": [
        {
          "output_type": "stream",
          "name": "stdout",
          "text": [
            "Drive already mounted at /content/drive; to attempt to forcibly remount, call drive.mount(\"/content/drive\", force_remount=True).\n",
            "                        タイムスタンプ                            ユーザー名  \\\n",
            "0  2025/04/16 11:18:46 午前 GMT+9  2124005@mail.miyasankei-u.ac.jp   \n",
            "1  2025/04/16 11:19:59 午前 GMT+9  2123011@mail.miyasankei-u.ac.jp   \n",
            "2  2025/04/16 11:21:42 午前 GMT+9  2124040@mail.miyasankei-u.ac.jp   \n",
            "3  2025/04/16 11:21:57 午前 GMT+9  2124080@mail.miyasankei-u.ac.jp   \n",
            "4  2025/04/16 11:21:59 午前 GMT+9  2124099@mail.miyasankei-u.ac.jp   \n",
            "\n",
            "  ワークショップでやってみたいこと、関心があるテーマ、分野など、自由に書いて下さい。（記入された情報に基づき、AIによる自動チーム分けを実施する予定です；記入途中で改行すると、複数テーマが記入されたと解釈してチーム分けに使用する予定です）\\n例：授業に遅れないように、朝、起こしてくれるアプリが作りたい\\n例：マーケティングとAIを掛け合わせた感じのテーマを希望\\n例：xxの部活をやっているんだけど、魅力的な新人勧誘を実施して、入部希望が倍増するようにしたい  \\\n",
            "0                     暇なときに話してくれる面白い友達が欲しいのでそいつを作りたい                                                                                                                                                                                      \n",
            "1  動物の言っていることや感情がわかるようになりたい。特に猫。\\n歌が上手くなりたい。\\n鍵の閉...                                                                                                                                                                                      \n",
            "2            悩み事があるときに解決策を提示してくれたり、暇つぶし相手になってくれそうなAI                                                                                                                                                                                      \n",
            "3           自分に合った系統の服を紹介してほしい バイトの給料を計算してくれるアプリがほしい                                                                                                                                                                                      \n",
            "4  部活動のマネジメントをしてくれるようなBOTがほしい。（OOしてないけど大丈夫？OOしたほう...                                                                                                                                                                                      \n",
            "\n",
            "  持っているスキル、できること、得意なことなど、自由に書いて下さい。（記入された情報は、バランスのとれたチーム分けをするために使う可能性があります）\\n例：プログラミングが少しできる\\n例：生成AIを日常的に使っている\\n例：マーケティングの知識がある\\n例：チームの盛り上げ役なら任せて！\\n例：誰とでも仲良くなれる  \\\n",
            "0                                                NaN                                                                                                               \n",
            "1                                      人の意見を聞くことが出来る                                                                                                               \n",
            "2                                                NaN                                                                                                               \n",
            "3                                                NaN                                                                                                               \n",
            "4                                     生成AIを日常的に使っている                                                                                                               \n",
            "\n",
            "                                          embeddings  \n",
            "0  [0.23578831553459167, 0.037821050733327866, -0...  \n",
            "1  [0.3759481608867645, -0.0641249269247055, -0.2...  \n",
            "2  [0.23534052073955536, 0.17792512476444244, -0....  \n",
            "3  [0.5406975746154785, 0.2711772322654724, 0.120...  \n",
            "4  [0.5609701871871948, -0.1574499011039734, -0.2...  \n"
          ]
        }
      ]
    },
    {
      "cell_type": "markdown",
      "source": [
        "## コサイン類似度で階層的クラスタリング"
      ],
      "metadata": {
        "id": "6Lgvt1Ylztdl"
      }
    },
    {
      "cell_type": "code",
      "source": [
        "# prompt: コサイン類似度で階層的クラスタリングを行い、デンドログラムを表示して下さい。\n",
        "\n",
        "import numpy as np\n",
        "from sklearn.metrics.pairwise import cosine_similarity\n",
        "from scipy.cluster.hierarchy import linkage, dendrogram\n",
        "import matplotlib.pyplot as plt\n",
        "\n",
        "# Assuming 'embeddings' column exists in the DataFrame 'df'\n",
        "if 'embeddings' in df.columns:\n",
        "    # Convert embeddings to numpy array\n",
        "    embeddings_array = np.array(df['embeddings'].tolist())\n",
        "\n",
        "    # Calculate cosine similarity matrix\n",
        "    similarity_matrix = cosine_similarity(embeddings_array)\n",
        "\n",
        "    # Perform hierarchical clustering using cosine similarity\n",
        "    distance_matrix = 1 - similarity_matrix  # Convert similarity to distance\n",
        "    linkage_matrix = linkage(distance_matrix, method='ward') # Use ward method for better results\n",
        "\n",
        "    # Plot the dendrogram\n",
        "    plt.figure(figsize=(10, 7))\n",
        "    dendrogram(linkage_matrix, labels=df.index.tolist(), orientation='top', leaf_font_size=8)  # Use df.index as labels\n",
        "    plt.title('Hierarchical Clustering Dendrogram')\n",
        "    plt.xlabel('Sample Index')\n",
        "    plt.ylabel('Distance')\n",
        "    plt.show()\n",
        "else:\n",
        "    print(\"Error: 'embeddings' column not found in the DataFrame.\")\n"
      ],
      "metadata": {
        "colab": {
          "base_uri": "https://localhost:8080/",
          "height": 637
        },
        "id": "DnT0gWwtz7Ac",
        "outputId": "fa4a185d-cb5c-44ac-e8ba-cb2d99a3f8eb"
      },
      "execution_count": 5,
      "outputs": [
        {
          "output_type": "display_data",
          "data": {
            "text/plain": [
              "<Figure size 1000x700 with 1 Axes>"
            ],
            "image/png": "[encoded data removed]"
          },
          "metadata": {}
        }
      ]
    },
    {
      "cell_type": "code",
      "source": [
        "# prompt: クラスタ数を指定すると、各クラスタに属するサンプルのサンプルインデクスとtext_culumnの内容を表示する\n",
        "\n",
        "import matplotlib.pyplot as plt\n",
        "from scipy.cluster.hierarchy import fcluster\n",
        "\n",
        "def show_cluster_members(linkage_matrix, df, n_clusters):\n",
        "    # Perform clustering based on the specified number of clusters\n",
        "    cluster_labels = fcluster(linkage_matrix, n_clusters, criterion='maxclust')\n",
        "\n",
        "    # Print the sample indices and text_column content for each cluster\n",
        "    for i in range(1, n_clusters + 1):\n",
        "        cluster_members = df[cluster_labels == i]\n",
        "        print(f\"Cluster {i}:\")\n",
        "        for index, row in cluster_members.iterrows():\n",
        "          print(f\"  Index: {index}, Text: {row[text_column]}\")\n",
        "\n",
        "# Example usage (assuming linkage_matrix and df are already defined)\n",
        "# Replace 'n_clusters' with your desired number of clusters\n",
        "n_clusters = 4  # Example: 3 clusters\n",
        "show_cluster_members(linkage_matrix, df, n_clusters)\n"
      ],
      "metadata": {
        "colab": {
          "base_uri": "https://localhost:8080/"
        },
        "id": "paWWz5aj03u7",
        "outputId": "ad64d3cf-31c1-4160-c382-11c3937fdfa8"
      },
      "execution_count": 6,
      "outputs": [
        {
          "output_type": "stream",
          "name": "stdout",
          "text": [
            "Cluster 1:\n",
            "  Index: 0, Text: 暇なときに話してくれる面白い友達が欲しいのでそいつを作りたい\n",
            "  Index: 2, Text: 悩み事があるときに解決策を提示してくれたり、暇つぶし相手になってくれそうなAI\n",
            "  Index: 4, Text: 部活動のマネジメントをしてくれるようなBOTがほしい。（OOしてないけど大丈夫？OOしたほうがいいんじゃない？的なことを聞いてくれるやつ）\n",
            "  Index: 9, Text: イベントを作る時の支援AIがほしい。お客さんが何人来てくれるかをイベント当日や月内の他のイベント、出演する有名人の集客力から推測したい。その後、赤字にならないようにチケット代やイベント日、収容人数の箱を教えてほしい。\n",
            "Cluster 2:\n",
            "  Index: 1, Text: 動物の言っていることや感情がわかるようになりたい。特に猫。\n",
            "歌が上手くなりたい。\n",
            "鍵の閉め忘れや大事な資料の置き忘れを注意喚起してほしい。\n",
            "会計がもっとわかりやすくなってほしい。\n",
            "Cluster 3:\n",
            "  Index: 3, Text: 自分に合った系統の服を紹介してほしい バイトの給料を計算してくれるアプリがほしい\n",
            "  Index: 5, Text: 夜ごはんのレシピを考えてくれるAIを作りたい\n",
            "  Index: 8, Text: 宮崎のご飯屋や、イベントが全て載ってるアプリを作ってみたいです。（ご飯屋ならそのお店がどのくらい混んでいるのか、空いているのか知れたらいい）\n",
            "Cluster 4:\n",
            "  Index: 6, Text: 午後から雨が降りそうなときに教えてくれるアプリ\n",
            "  Index: 7, Text: 観光マップのアプリを作りたい\n"
          ]
        }
      ]
    }
  ]
}