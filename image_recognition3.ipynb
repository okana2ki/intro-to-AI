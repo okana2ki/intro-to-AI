{
  "nbformat": 4,
  "nbformat_minor": 0,
  "metadata": {
    "colab": {
      "provenance": []
    },
    "kernelspec": {
      "name": "python3",
      "display_name": "Python 3"
    },
    "language_info": {
      "name": "python"
    }
  },
  "cells": [
    {
      "cell_type": "code",
      "execution_count": null,
      "metadata": {
        "id": "_c4lddgZvU_s"
      },
      "outputs": [],
      "source": [
        "import json\n",
        "import urllib.request\n",
        "import torch\n",
        "from torchvision import models, transforms\n",
        "from PIL import Image\n",
        "\n",
        "# ImageNetのクラス名をダウンロードします\n",
        "class_idx = json.load(urllib.request.urlopen('https://raw.githubusercontent.com/anishathalye/imagenet-simple-labels/master/imagenet-simple-labels.json'))\n",
        "\n",
        "# 学習済みのResNet50モデルをロードします\n",
        "resnet = models.resnet50(pretrained=True)\n",
        "resnet.eval()\n",
        "\n",
        "# 入力画像を処理するための変換を定義します\n",
        "transform = transforms.Compose([\n",
        "    transforms.Resize(256),\n",
        "    transforms.CenterCrop(224),\n",
        "    transforms.ToTensor(),\n",
        "    transforms.Normalize(mean=[0.485, 0.456, 0.406], std=[0.229, 0.224, 0.225]),\n",
        "])\n",
        "\n",
        "while True:\n",
        "    # ユーザーに画像URLを入力させます\n",
        "    img_url = input(\"画像のURLを入力してください（終了するには'q'を入力）：\")\n",
        "\n",
        "    if img_url.lower() == 'q':\n",
        "        break\n",
        "\n",
        "    # URLから画像をダウンロードし、メモリ内で開きます\n",
        "    with urllib.request.urlopen(img_url) as url:\n",
        "        img = Image.open(url)\n",
        "\n",
        "    # 画像を変換します\n",
        "    img_t = transform(img)\n",
        "    batch_t = torch.unsqueeze(img_t, 0)\n",
        "\n",
        "    # モデルを使って画像を推測します\n",
        "    resnet.eval()\n",
        "    out = resnet(batch_t)\n",
        "\n",
        "    # ソフトマックス関数を適用して確率を計算します\n",
        "    probs = torch.nn.functional.softmax(out, dim=1)[0] * 100\n",
        "\n",
        "    # 上位3つの予測結果を取得します\n",
        "    _, indices = torch.topk(probs, 3)\n",
        "    percentages = probs[indices]\n",
        "\n",
        "    # 推測結果を表示します\n",
        "    for idx, percentage in zip(indices, percentages):\n",
        "        print(\"クラス:\", class_idx[idx.item()], \", 確信度:\", percentage.item())\n",
        "\n",
        "    print('\\n' + '=' * 50 + '\\n')"
      ]
    }
  ]
}