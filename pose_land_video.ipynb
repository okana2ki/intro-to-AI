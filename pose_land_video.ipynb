{
  "nbformat": 4,
  "nbformat_minor": 0,
  "metadata": {
    "colab": {
      "provenance": [],
      "mount_file_id": "1LtohDc2FWNPn8GEYTYB9RgLBbLixz4nR",
      "authorship_tag": "ABX9TyPFdCDFETsHsaPI8J2k/688",
      "include_colab_link": true
    },
    "kernelspec": {
      "name": "python3",
      "display_name": "Python 3"
    },
    "language_info": {
      "name": "python"
    }
  },
  "cells": [
    {
      "cell_type": "markdown",
      "metadata": {
        "id": "view-in-github",
        "colab_type": "text"
      },
      "source": [
        "<a href=\"https://colab.research.google.com/github/okana2ki/intro-to-AI/blob/main/pose_land_video.ipynb\" target=\"_parent\"><img src=\"https://colab.research.google.com/assets/colab-badge.svg\" alt=\"Open In Colab\"/></a>"
      ]
    },
    {
      "cell_type": "markdown",
      "source": [
        "# 音声なし版"
      ],
      "metadata": {
        "id": "ZbBuVeeqPqoO"
      }
    },
    {
      "cell_type": "code",
      "execution_count": null,
      "metadata": {
        "id": "RDFV25k9KCJB"
      },
      "outputs": [],
      "source": [
        "!pip install mediapipe opencv-python"
      ]
    },
    {
      "cell_type": "code",
      "source": [
        "import cv2\n",
        "import mediapipe as mp\n",
        "\n",
        "# MediaPipe Poseの初期化\n",
        "mp_pose = mp.solutions.pose\n",
        "pose = mp_pose.Pose()\n",
        "mp_drawing = mp.solutions.drawing_utils\n",
        "\n",
        "# 動画ファイルの読み込み\n",
        "input_video_path = '/content/drive/MyDrive/Colab_files/dance-sample.mp4'\n",
        "cap = cv2.VideoCapture(input_video_path)\n",
        "\n",
        "# 動画ファイルのプロパティ取得\n",
        "frame_width = int(cap.get(cv2.CAP_PROP_FRAME_WIDTH))\n",
        "frame_height = int(cap.get(cv2.CAP_PROP_FRAME_HEIGHT))\n",
        "fps = cap.get(cv2.CAP_PROP_FPS)\n",
        "\n",
        "# 出力動画ファイルの設定\n",
        "output_video_path = '/content/drive/MyDrive/Colab_files/dance-sample-l.mp4'\n",
        "fourcc = cv2.VideoWriter_fourcc(*'mp4v')\n",
        "out = cv2.VideoWriter(output_video_path, fourcc, fps, (frame_width, frame_height))\n",
        "\n",
        "while cap.isOpened():\n",
        "    ret, frame = cap.read()\n",
        "    if not ret:\n",
        "        break\n",
        "\n",
        "    # BGR画像をRGBに変換\n",
        "    rgb_frame = cv2.cvtColor(frame, cv2.COLOR_BGR2RGB)\n",
        "\n",
        "    # ポーズランドマークの検出\n",
        "    results = pose.process(rgb_frame)\n",
        "\n",
        "    # ランドマークの描画\n",
        "    if results.pose_landmarks:\n",
        "        mp_drawing.draw_landmarks(frame, results.pose_landmarks, mp_pose.POSE_CONNECTIONS)\n",
        "\n",
        "    # フレームを書き込み\n",
        "    out.write(frame)\n",
        "\n",
        "cap.release()\n",
        "out.release()\n",
        "pose.close()\n",
        "\n",
        "print(f'Output video saved to {output_video_path}')"
      ],
      "metadata": {
        "id": "Sp1ZJnlFKIb3"
      },
      "execution_count": null,
      "outputs": []
    },
    {
      "cell_type": "markdown",
      "source": [
        "# 音声あり版"
      ],
      "metadata": {
        "id": "igBPs57aPydD"
      }
    },
    {
      "cell_type": "code",
      "source": [
        "!pip install mediapipe opencv-python moviepy\n",
        "!sudo apt-get install ffmpeg"
      ],
      "metadata": {
        "id": "UVYOBHPLP2O1"
      },
      "execution_count": null,
      "outputs": []
    },
    {
      "cell_type": "code",
      "source": [
        "import cv2\n",
        "import mediapipe as mp\n",
        "from moviepy.editor import VideoFileClip, AudioFileClip\n",
        "\n",
        "# MediaPipe Poseの初期化\n",
        "mp_pose = mp.solutions.pose\n",
        "pose = mp_pose.Pose()\n",
        "mp_drawing = mp.solutions.drawing_utils\n",
        "\n",
        "# 入力動画ファイルのパス\n",
        "input_video_path = '/content/drive/MyDrive/Colab_files/dance-sample.mp4'\n",
        "\n",
        "# MoviePyを使って動画と音声を読み込み\n",
        "clip = VideoFileClip(input_video_path)\n",
        "audio = clip.audio\n",
        "\n",
        "# OpenCVを使って動画ファイルを読み込み\n",
        "cap = cv2.VideoCapture(input_video_path)\n",
        "\n",
        "# 動画ファイルのプロパティ取得\n",
        "frame_width = int(cap.get(cv2.CAP_PROP_FRAME_WIDTH))\n",
        "frame_height = int(cap.get(cv2.CAP_PROP_FRAME_HEIGHT))\n",
        "fps = cap.get(cv2.CAP_PROP_FPS)\n",
        "\n",
        "# 出力動画ファイルの設定\n",
        "output_video_path = 'output_with_landmarks.mp4'\n",
        "fourcc = cv2.VideoWriter_fourcc(*'mp4v')\n",
        "out = cv2.VideoWriter(output_video_path, fourcc, fps, (frame_width, frame_height))\n",
        "\n",
        "while cap.isOpened():\n",
        "    ret, frame = cap.read()\n",
        "    if not ret:\n",
        "        break\n",
        "\n",
        "    # BGR画像をRGBに変換\n",
        "    rgb_frame = cv2.cvtColor(frame, cv2.COLOR_BGR2RGB)\n",
        "\n",
        "    # ポーズランドマークの検出\n",
        "    results = pose.process(rgb_frame)\n",
        "\n",
        "    # ランドマークの描画\n",
        "    if results.pose_landmarks:\n",
        "        mp_drawing.draw_landmarks(frame, results.pose_landmarks, mp_pose.POSE_CONNECTIONS)\n",
        "\n",
        "    # フレームを書き込み\n",
        "    out.write(frame)\n",
        "\n",
        "cap.release()\n",
        "out.release()\n",
        "pose.close()\n",
        "\n",
        "# MoviePyを使って映像と音声を結合\n",
        "final_clip = VideoFileClip(output_video_path)\n",
        "final_clip = final_clip.set_audio(audio)\n",
        "final_clip.write_videofile(\"final_output_with_audio.mp4\", codec='libx264', audio_codec='aac')\n",
        "\n",
        "print('Output video saved as final_output_with_audio.mp4')"
      ],
      "metadata": {
        "id": "2Srf9daATJW1"
      },
      "execution_count": null,
      "outputs": []
    },
    {
      "cell_type": "markdown",
      "source": [
        "# ワールド座標のファイル保存を追加"
      ],
      "metadata": {
        "id": "GfHRiXVPWIn-"
      }
    },
    {
      "cell_type": "code",
      "source": [
        "import cv2\n",
        "import mediapipe as mp\n",
        "import csv\n",
        "from moviepy.editor import VideoFileClip\n",
        "\n",
        "# MediaPipe Poseの初期化\n",
        "mp_pose = mp.solutions.pose\n",
        "pose = mp_pose.Pose(model_complexity=1, enable_segmentation=False, min_detection_confidence=0.5)\n",
        "mp_drawing = mp.solutions.drawing_utils\n",
        "\n",
        "# 入力動画ファイルのパス\n",
        "input_video_path = '/content/drive/MyDrive/Colab_files/dance-sample.mp4'\n",
        "\n",
        "# MoviePyを使って動画と音声を読み込み\n",
        "clip = VideoFileClip(input_video_path)\n",
        "audio = clip.audio\n",
        "\n",
        "# OpenCVを使って動画ファイルを読み込み\n",
        "cap = cv2.VideoCapture(input_video_path)\n",
        "\n",
        "# 動画ファイルのプロパティ取得\n",
        "frame_width = int(cap.get(cv2.CAP_PROP_FRAME_WIDTH))\n",
        "frame_height = int(cap.get(cv2.CAP_PROP_FRAME_HEIGHT))\n",
        "fps = cap.get(cv2.CAP_PROP_FPS)\n",
        "\n",
        "# 出力動画ファイルの設定\n",
        "output_video_path = 'output_with_landmarks.mp4'\n",
        "fourcc = cv2.VideoWriter_fourcc(*'mp4v')\n",
        "out = cv2.VideoWriter(output_video_path, fourcc, fps, (frame_width, frame_height))\n",
        "\n",
        "# CSVファイルの設定\n",
        "csv_file_path = 'landmarks_world_coordinates.csv'\n",
        "csv_file = open(csv_file_path, mode='w', newline='')\n",
        "csv_writer = csv.writer(csv_file)\n",
        "csv_writer.writerow(['frame', 'landmark_index', 'x', 'y', 'z', 'visibility'])\n",
        "\n",
        "frame_index = 0\n",
        "\n",
        "while cap.isOpened():\n",
        "    ret, frame = cap.read()\n",
        "    if not ret:\n",
        "        break\n",
        "\n",
        "    # BGR画像をRGBに変換\n",
        "    rgb_frame = cv2.cvtColor(frame, cv2.COLOR_BGR2RGB)\n",
        "\n",
        "    # ポーズランドマークの検出\n",
        "    results = pose.process(rgb_frame)\n",
        "\n",
        "    # ランドマークの描画\n",
        "    if results.pose_landmarks:\n",
        "        mp_drawing.draw_landmarks(frame, results.pose_landmarks, mp_pose.POSE_CONNECTIONS)\n",
        "\n",
        "        # ランドマークのワールド座標を取得\n",
        "        for i, landmark in enumerate(results.pose_world_landmarks.landmark):\n",
        "            csv_writer.writerow([frame_index, i, landmark.x, landmark.y, landmark.z, landmark.visibility])\n",
        "\n",
        "    # フレームを書き込み\n",
        "    out.write(frame)\n",
        "    frame_index += 1\n",
        "\n",
        "cap.release()\n",
        "out.release()\n",
        "pose.close()\n",
        "csv_file.close()\n",
        "\n",
        "# MoviePyを使って映像と音声を結合\n",
        "final_clip = VideoFileClip(output_video_path)\n",
        "final_clip = final_clip.set_audio(audio)\n",
        "final_clip.write_videofile(\"final_output_with_audio.mp4\", codec='libx264', audio_codec='aac')\n",
        "\n",
        "print('Output video saved as final_output_with_audio.mp4')\n",
        "print(f'Landmark world coordinates saved as {csv_file_path}')"
      ],
      "metadata": {
        "id": "m7V2aFVAWPnM"
      },
      "execution_count": null,
      "outputs": []
    },
    {
      "cell_type": "markdown",
      "source": [
        "# ランドマークを上から見た映像に変換（音声付き）"
      ],
      "metadata": {
        "id": "d6vuVZ8WZnOd"
      }
    },
    {
      "cell_type": "code",
      "source": [],
      "metadata": {
        "id": "taqJfWSBZ0Je"
      },
      "execution_count": null,
      "outputs": []
    }
  ]
}