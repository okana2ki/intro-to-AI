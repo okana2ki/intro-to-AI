{
  "nbformat": 4,
  "nbformat_minor": 0,
  "metadata": {
    "colab": {
      "provenance": [],
      "gpuType": "T4",
      "toc_visible": true,
      "include_colab_link": true
    },
    "kernelspec": {
      "name": "python3",
      "display_name": "Python 3"
    },
    "accelerator": "GPU"
  },
  "cells": [
    {
      "cell_type": "markdown",
      "metadata": {
        "id": "view-in-github",
        "colab_type": "text"
      },
      "source": [
        "<a href=\"https://colab.research.google.com/github/okana2ki/intro-to-AI/blob/main/student_faculty_assignment4.ipynb\" target=\"_parent\"><img src=\"https://colab.research.google.com/assets/colab-badge.svg\" alt=\"Open In Colab\"/></a>"
      ]
    },
    {
      "cell_type": "code",
      "source": [
        "from google.colab import drive\n",
        "drive.mount('/content/drive')"
      ],
      "metadata": {
        "id": "_cy9bKXEdPo1",
        "colab": {
          "base_uri": "https://localhost:8080/"
        },
        "outputId": "cd565041-d6e6-4640-c378-9620152dfe73"
      },
      "execution_count": 1,
      "outputs": [
        {
          "output_type": "stream",
          "name": "stdout",
          "text": [
            "Mounted at /content/drive\n"
          ]
        }
      ]
    },
    {
      "cell_type": "markdown",
      "source": [
        "# 課題（学生-教員割り当て問題）について"
      ],
      "metadata": {
        "id": "5X8SRkyRiNPo"
      }
    },
    {
      "cell_type": "markdown",
      "source": [
        "新入生が書いた作文から判断して、作文の内容と関連する大学教員に新入生を割り当てる問題を考える。作文は将来希望する職業、その理由、それに向けて大学で学びたいことなどが書かれている。これまでは人手で割り当てを実施してきたが、割り当て案の自動作成を試みる。\n",
        "\n",
        "[**埋め込み**（文章の内容を表す特徴ベクトル）を文章から生成する技術](https://www.sbert.net/)を利用する。この技術は従来のキーワードマッチングや、キーワードをベクトルで表す技術（word2vecなど）と比べて高い精度で文章の内容を表現できる。\n",
        "\n",
        "新入生が書いた作文を埋め込みに変換したものと、教員の特徴を表す文章を埋め込みに変換したものを比較し、新入生を埋め込みが近い教員に割り当てる。\n",
        "\n",
        "教員の特徴を表す文章としては、大学のHPの[教員紹介ページ](https://www.miyasankei-u.ac.jp/kyouin-introduce/)に掲載された情報を用いる。"
      ],
      "metadata": {
        "id": "3zNQcYJ6ipa4"
      }
    },
    {
      "cell_type": "markdown",
      "source": [
        "# Text Embeddingを用いた文章の類似度計算"
      ],
      "metadata": {
        "id": "-sInMycIYb1W"
      }
    },
    {
      "cell_type": "markdown",
      "source": [
        "## 日本語で利用可能なtext embeddingモデルの例\n",
        "\n",
        "以下は、日本語で利用可能なtext embeddingモデルの例です（出典：NLP204チュートリアル, 松田寛）\n",
        "\n",
        "日本語のモデル：\n",
        "\n",
        "SimCSE, Gao+ (2021/04) をベースにしたもの\n",
        "\n",
        "Japanese SimCSE (BERT-base) (2022/12)\n",
        "\n",
        "Japanese Simple-SimCSE, Tsukagoshi+ (2023/10)\n",
        "\n",
        "ColBERT, Khattab+ (2020/04) をベースにしたもの\n",
        "\n",
        "JaColBERT, Clavié (2023/12)\n",
        "\n",
        "多言語モデルの例：\n",
        "\n",
        "multilingual-e5-large, Wang+ (2024/02)"
      ],
      "metadata": {
        "id": "6FdTG9Z2Y0y1"
      }
    },
    {
      "cell_type": "markdown",
      "source": [
        "## Japanese SimCSE (BERT-base) モデルのロード\n",
        "\n",
        " このノートブックでは、text embeddingモデルとして、[Japanese SimCSE (BERT-base) ](https://huggingface.co/pkshatech/simcse-ja-bert-base-clcmlp/blob/main/README_JA.md) を使用します。\n",
        "\n",
        " sentence-transformersを使って、このモデルを簡単に利用することができます。トークナイズのために、fugashiとunidic-liteが必要です。まず、下記のように、pipでsentence-transformersとfugashi, unidic-liteをインストールします。"
      ],
      "metadata": {
        "id": "c9y2cOhAZJbc"
      }
    },
    {
      "cell_type": "code",
      "source": [
        "!pip install -U fugashi[unidic-lite]\n",
        "!pip install -U sentence-transformers"
      ],
      "metadata": {
        "id": "z8kAeexDZaOg"
      },
      "execution_count": null,
      "outputs": []
    },
    {
      "cell_type": "code",
      "source": [
        "from sentence_transformers import SentenceTransformer\n",
        "\n",
        "model = SentenceTransformer('pkshatech/simcse-ja-bert-base-clcmlp')"
      ],
      "metadata": {
        "id": "Kg039SSfZfDd"
      },
      "execution_count": null,
      "outputs": []
    },
    {
      "cell_type": "markdown",
      "source": [
        "## モデルを利用した埋め込み (embedding) 作成例"
      ],
      "metadata": {
        "id": "wEbAtW_lZp1A"
      }
    },
    {
      "cell_type": "code",
      "source": [
        "sentences = [\n",
        "    \"PKSHA Technologyは機械学習/深層学習技術に関わるアルゴリズムソリューションを展開している。\",\n",
        "    \"この深層学習モデルはPKSHA Technologyによって学習され、公開された。\",\n",
        "    \"広目天は、仏教における四天王の一尊であり、サンスクリット語の「種々の眼をした者」を名前の由来とする。\",\n",
        "]\n",
        "\n",
        "embeddings = model.encode(sentences)\n",
        "print(embeddings)"
      ],
      "metadata": {
        "id": "ErFNS6y5ZvsX"
      },
      "execution_count": null,
      "outputs": []
    },
    {
      "cell_type": "markdown",
      "source": [
        "## 類似度はcosine類似度がお勧め\n",
        "\n",
        "Japanese SimCSE (BERT-base) モデルは、学習時の損失関数にcosine類似度を使っているため、下流のタスクで**cosine類似度を類似度計算に使うことをおすすめ**します。とのとです。"
      ],
      "metadata": {
        "id": "Uj3FJzZeZ2IX"
      }
    },
    {
      "cell_type": "markdown",
      "source": [
        "# 割り当てタスク用プログラム"
      ],
      "metadata": {
        "id": "oOthES173qYb"
      }
    },
    {
      "cell_type": "markdown",
      "source": [
        "## 教員情報の処理\n"
      ],
      "metadata": {
        "id": "E0PP4nJN3mlA"
      }
    },
    {
      "cell_type": "markdown",
      "source": [
        "教員情報は、HPの教員紹介ページに掲載されている内容を使用した。教員が内容の更新を希望した場合は、加筆修正を施した。さらに、割り当て結果改善のため、追加キーワードを付加した。教員情報の見出しの後ろにコロンを追加（コロンがある方が埋め込みへの変換がより適切に行われるのではないかと考えて）し、これをCSVファイルに格納した。"
      ],
      "metadata": {
        "id": "eBQ_LddLqwlD"
      }
    },
    {
      "cell_type": "markdown",
      "source": [
        "### 1. 教員CSVファイルからfa_sentencesを作成"
      ],
      "metadata": {
        "id": "38bWH0YaTZ73"
      }
    },
    {
      "cell_type": "code",
      "source": [
        "# prompt: ネット上のファイル https://github.com/okana2ki/ML/blob/main/2024faculty.csv を読み込み\n",
        "\n",
        "import pandas as pd\n",
        "\n",
        "# CSVファイルの読み込み\n",
        "url = 'https://raw.githubusercontent.com/okana2ki/ML/main/2024faculty.csv'\n",
        "faculty_df = pd.read_csv(url)\n",
        "# faculty_df = pd.read_csv(faculty_csv_path, encoding='shift_jis')\n",
        "\n",
        "# NaNやNoneを含む可能性がある行を削除 <- エラー対策\n",
        "faculty_df = faculty_df.dropna(subset=['description'])\n",
        "\n",
        "# description列からsentencesリストを生成\n",
        "fa_sentences = faculty_df['description'].tolist()\n",
        "\n",
        "# sentencesの各要素が文字列であることを確認 <- エラー対策\n",
        "fa_sentences = [str(sentence) for sentence in fa_sentences]"
      ],
      "metadata": {
        "id": "Ky281MmsBxYz"
      },
      "execution_count": 5,
      "outputs": []
    },
    {
      "cell_type": "code",
      "source": [
        "faculty_df.head()"
      ],
      "metadata": {
        "colab": {
          "base_uri": "https://localhost:8080/",
          "height": 206
        },
        "id": "-kPP9KtedNZw",
        "outputId": "48c6bd1a-9e86-46f1-cd98-8485b6d4a33b"
      },
      "execution_count": 6,
      "outputs": [
        {
          "output_type": "execute_result",
          "data": {
            "text/plain": [
              "   id       name                                        description  pair  \\\n",
              "0   0     uchida  プロフィール：\\r\\n兵庫県出身。宮崎大学大学院農学工学総合研究科物質･情報工学専攻博士後期...   NaN   \n",
              "1   1        oka  プロフィール：\\n出身は徳島で、東京と京都暮らしを経て宮崎に来ました。企業と大学でAI（人工...   NaN   \n",
              "2   2    okumura  プロフィール：\\n宮崎県出身、東京工業大学工学部社会工学科卒業、ハーバード大学大学院公共政策...   NaN   \n",
              "3   3     kasagi  プロフィール：\\n岡山県出身。誠実に生きていくことが信条です。心のなかでは、若いころの情熱と...   NaN   \n",
              "4   4  kawashima  プロフィール：\\n福岡県八女市生まれ。九州大学大学院経済工学の分野で博士の学位を取得。約20...   NaN   \n",
              "\n",
              "   similarity  \n",
              "0         NaN  \n",
              "1         NaN  \n",
              "2         NaN  \n",
              "3         NaN  \n",
              "4         NaN  "
            ],
            "text/html": [
              "\n",
              "  <div id=\"df-fe6841d7-153c-461e-bff2-95fdd44b7277\" class=\"colab-df-container\">\n",
              "    <div>\n",
              "<style scoped>\n",
              "    .dataframe tbody tr th:only-of-type {\n",
              "        vertical-align: middle;\n",
              "    }\n",
              "\n",
              "    .dataframe tbody tr th {\n",
              "        vertical-align: top;\n",
              "    }\n",
              "\n",
              "    .dataframe thead th {\n",
              "        text-align: right;\n",
              "    }\n",
              "</style>\n",
              "<table border=\"1\" class=\"dataframe\">\n",
              "  <thead>\n",
              "    <tr style=\"text-align: right;\">\n",
              "      <th></th>\n",
              "      <th>id</th>\n",
              "      <th>name</th>\n",
              "      <th>description</th>\n",
              "      <th>pair</th>\n",
              "      <th>similarity</th>\n",
              "    </tr>\n",
              "  </thead>\n",
              "  <tbody>\n",
              "    <tr>\n",
              "      <th>0</th>\n",
              "      <td>0</td>\n",
              "      <td>uchida</td>\n",
              "      <td>プロフィール：\\r\\n兵庫県出身。宮崎大学大学院農学工学総合研究科物質･情報工学専攻博士後期...</td>\n",
              "      <td>NaN</td>\n",
              "      <td>NaN</td>\n",
              "    </tr>\n",
              "    <tr>\n",
              "      <th>1</th>\n",
              "      <td>1</td>\n",
              "      <td>oka</td>\n",
              "      <td>プロフィール：\\n出身は徳島で、東京と京都暮らしを経て宮崎に来ました。企業と大学でAI（人工...</td>\n",
              "      <td>NaN</td>\n",
              "      <td>NaN</td>\n",
              "    </tr>\n",
              "    <tr>\n",
              "      <th>2</th>\n",
              "      <td>2</td>\n",
              "      <td>okumura</td>\n",
              "      <td>プロフィール：\\n宮崎県出身、東京工業大学工学部社会工学科卒業、ハーバード大学大学院公共政策...</td>\n",
              "      <td>NaN</td>\n",
              "      <td>NaN</td>\n",
              "    </tr>\n",
              "    <tr>\n",
              "      <th>3</th>\n",
              "      <td>3</td>\n",
              "      <td>kasagi</td>\n",
              "      <td>プロフィール：\\n岡山県出身。誠実に生きていくことが信条です。心のなかでは、若いころの情熱と...</td>\n",
              "      <td>NaN</td>\n",
              "      <td>NaN</td>\n",
              "    </tr>\n",
              "    <tr>\n",
              "      <th>4</th>\n",
              "      <td>4</td>\n",
              "      <td>kawashima</td>\n",
              "      <td>プロフィール：\\n福岡県八女市生まれ。九州大学大学院経済工学の分野で博士の学位を取得。約20...</td>\n",
              "      <td>NaN</td>\n",
              "      <td>NaN</td>\n",
              "    </tr>\n",
              "  </tbody>\n",
              "</table>\n",
              "</div>\n",
              "    <div class=\"colab-df-buttons\">\n",
              "\n",
              "  <div class=\"colab-df-container\">\n",
              "    <button class=\"colab-df-convert\" onclick=\"convertToInteractive('df-fe6841d7-153c-461e-bff2-95fdd44b7277')\"\n",
              "            title=\"Convert this dataframe to an interactive table.\"\n",
              "            style=\"display:none;\">\n",
              "\n",
              "  <svg xmlns=\"http://www.w3.org/2000/svg\" height=\"24px\" viewBox=\"0 -960 960 960\">\n",
              "    <path d=\"M120-120v-720h720v720H120Zm60-500h600v-160H180v160Zm220 220h160v-160H400v160Zm0 220h160v-160H400v160ZM180-400h160v-160H180v160Zm440 0h160v-160H620v160ZM180-180h160v-160H180v160Zm440 0h160v-160H620v160Z\"/>\n",
              "  </svg>\n",
              "    </button>\n",
              "\n",
              "  <style>\n",
              "    .colab-df-container {\n",
              "      display:flex;\n",
              "      gap: 12px;\n",
              "    }\n",
              "\n",
              "    .colab-df-convert {\n",
              "      background-color: #E8F0FE;\n",
              "      border: none;\n",
              "      border-radius: 50%;\n",
              "      cursor: pointer;\n",
              "      display: none;\n",
              "      fill: #1967D2;\n",
              "      height: 32px;\n",
              "      padding: 0 0 0 0;\n",
              "      width: 32px;\n",
              "    }\n",
              "\n",
              "    .colab-df-convert:hover {\n",
              "      background-color: #E2EBFA;\n",
              "      box-shadow: 0px 1px 2px rgba(60, 64, 67, 0.3), 0px 1px 3px 1px rgba(60, 64, 67, 0.15);\n",
              "      fill: #174EA6;\n",
              "    }\n",
              "\n",
              "    .colab-df-buttons div {\n",
              "      margin-bottom: 4px;\n",
              "    }\n",
              "\n",
              "    [theme=dark] .colab-df-convert {\n",
              "      background-color: #3B4455;\n",
              "      fill: #D2E3FC;\n",
              "    }\n",
              "\n",
              "    [theme=dark] .colab-df-convert:hover {\n",
              "      background-color: #434B5C;\n",
              "      box-shadow: 0px 1px 3px 1px rgba(0, 0, 0, 0.15);\n",
              "      filter: drop-shadow(0px 1px 2px rgba(0, 0, 0, 0.3));\n",
              "      fill: #FFFFFF;\n",
              "    }\n",
              "  </style>\n",
              "\n",
              "    <script>\n",
              "      const buttonEl =\n",
              "        document.querySelector('#df-fe6841d7-153c-461e-bff2-95fdd44b7277 button.colab-df-convert');\n",
              "      buttonEl.style.display =\n",
              "        google.colab.kernel.accessAllowed ? 'block' : 'none';\n",
              "\n",
              "      async function convertToInteractive(key) {\n",
              "        const element = document.querySelector('#df-fe6841d7-153c-461e-bff2-95fdd44b7277');\n",
              "        const dataTable =\n",
              "          await google.colab.kernel.invokeFunction('convertToInteractive',\n",
              "                                                    [key], {});\n",
              "        if (!dataTable) return;\n",
              "\n",
              "        const docLinkHtml = 'Like what you see? Visit the ' +\n",
              "          '<a target=\"_blank\" href=https://colab.research.google.com/notebooks/data_table.ipynb>data table notebook</a>'\n",
              "          + ' to learn more about interactive tables.';\n",
              "        element.innerHTML = '';\n",
              "        dataTable['output_type'] = 'display_data';\n",
              "        await google.colab.output.renderOutput(dataTable, element);\n",
              "        const docLink = document.createElement('div');\n",
              "        docLink.innerHTML = docLinkHtml;\n",
              "        element.appendChild(docLink);\n",
              "      }\n",
              "    </script>\n",
              "  </div>\n",
              "\n",
              "\n",
              "<div id=\"df-cb004103-720f-49db-95c3-49d557814366\">\n",
              "  <button class=\"colab-df-quickchart\" onclick=\"quickchart('df-cb004103-720f-49db-95c3-49d557814366')\"\n",
              "            title=\"Suggest charts\"\n",
              "            style=\"display:none;\">\n",
              "\n",
              "<svg xmlns=\"http://www.w3.org/2000/svg\" height=\"24px\"viewBox=\"0 0 24 24\"\n",
              "     width=\"24px\">\n",
              "    <g>\n",
              "        <path d=\"M19 3H5c-1.1 0-2 .9-2 2v14c0 1.1.9 2 2 2h14c1.1 0 2-.9 2-2V5c0-1.1-.9-2-2-2zM9 17H7v-7h2v7zm4 0h-2V7h2v10zm4 0h-2v-4h2v4z\"/>\n",
              "    </g>\n",
              "</svg>\n",
              "  </button>\n",
              "\n",
              "<style>\n",
              "  .colab-df-quickchart {\n",
              "      --bg-color: #E8F0FE;\n",
              "      --fill-color: #1967D2;\n",
              "      --hover-bg-color: #E2EBFA;\n",
              "      --hover-fill-color: #174EA6;\n",
              "      --disabled-fill-color: #AAA;\n",
              "      --disabled-bg-color: #DDD;\n",
              "  }\n",
              "\n",
              "  [theme=dark] .colab-df-quickchart {\n",
              "      --bg-color: #3B4455;\n",
              "      --fill-color: #D2E3FC;\n",
              "      --hover-bg-color: #434B5C;\n",
              "      --hover-fill-color: #FFFFFF;\n",
              "      --disabled-bg-color: #3B4455;\n",
              "      --disabled-fill-color: #666;\n",
              "  }\n",
              "\n",
              "  .colab-df-quickchart {\n",
              "    background-color: var(--bg-color);\n",
              "    border: none;\n",
              "    border-radius: 50%;\n",
              "    cursor: pointer;\n",
              "    display: none;\n",
              "    fill: var(--fill-color);\n",
              "    height: 32px;\n",
              "    padding: 0;\n",
              "    width: 32px;\n",
              "  }\n",
              "\n",
              "  .colab-df-quickchart:hover {\n",
              "    background-color: var(--hover-bg-color);\n",
              "    box-shadow: 0 1px 2px rgba(60, 64, 67, 0.3), 0 1px 3px 1px rgba(60, 64, 67, 0.15);\n",
              "    fill: var(--button-hover-fill-color);\n",
              "  }\n",
              "\n",
              "  .colab-df-quickchart-complete:disabled,\n",
              "  .colab-df-quickchart-complete:disabled:hover {\n",
              "    background-color: var(--disabled-bg-color);\n",
              "    fill: var(--disabled-fill-color);\n",
              "    box-shadow: none;\n",
              "  }\n",
              "\n",
              "  .colab-df-spinner {\n",
              "    border: 2px solid var(--fill-color);\n",
              "    border-color: transparent;\n",
              "    border-bottom-color: var(--fill-color);\n",
              "    animation:\n",
              "      spin 1s steps(1) infinite;\n",
              "  }\n",
              "\n",
              "  @keyframes spin {\n",
              "    0% {\n",
              "      border-color: transparent;\n",
              "      border-bottom-color: var(--fill-color);\n",
              "      border-left-color: var(--fill-color);\n",
              "    }\n",
              "    20% {\n",
              "      border-color: transparent;\n",
              "      border-left-color: var(--fill-color);\n",
              "      border-top-color: var(--fill-color);\n",
              "    }\n",
              "    30% {\n",
              "      border-color: transparent;\n",
              "      border-left-color: var(--fill-color);\n",
              "      border-top-color: var(--fill-color);\n",
              "      border-right-color: var(--fill-color);\n",
              "    }\n",
              "    40% {\n",
              "      border-color: transparent;\n",
              "      border-right-color: var(--fill-color);\n",
              "      border-top-color: var(--fill-color);\n",
              "    }\n",
              "    60% {\n",
              "      border-color: transparent;\n",
              "      border-right-color: var(--fill-color);\n",
              "    }\n",
              "    80% {\n",
              "      border-color: transparent;\n",
              "      border-right-color: var(--fill-color);\n",
              "      border-bottom-color: var(--fill-color);\n",
              "    }\n",
              "    90% {\n",
              "      border-color: transparent;\n",
              "      border-bottom-color: var(--fill-color);\n",
              "    }\n",
              "  }\n",
              "</style>\n",
              "\n",
              "  <script>\n",
              "    async function quickchart(key) {\n",
              "      const quickchartButtonEl =\n",
              "        document.querySelector('#' + key + ' button');\n",
              "      quickchartButtonEl.disabled = true;  // To prevent multiple clicks.\n",
              "      quickchartButtonEl.classList.add('colab-df-spinner');\n",
              "      try {\n",
              "        const charts = await google.colab.kernel.invokeFunction(\n",
              "            'suggestCharts', [key], {});\n",
              "      } catch (error) {\n",
              "        console.error('Error during call to suggestCharts:', error);\n",
              "      }\n",
              "      quickchartButtonEl.classList.remove('colab-df-spinner');\n",
              "      quickchartButtonEl.classList.add('colab-df-quickchart-complete');\n",
              "    }\n",
              "    (() => {\n",
              "      let quickchartButtonEl =\n",
              "        document.querySelector('#df-cb004103-720f-49db-95c3-49d557814366 button');\n",
              "      quickchartButtonEl.style.display =\n",
              "        google.colab.kernel.accessAllowed ? 'block' : 'none';\n",
              "    })();\n",
              "  </script>\n",
              "</div>\n",
              "\n",
              "    </div>\n",
              "  </div>\n"
            ],
            "application/vnd.google.colaboratory.intrinsic+json": {
              "type": "dataframe",
              "variable_name": "faculty_df",
              "summary": "{\n  \"name\": \"faculty_df\",\n  \"rows\": 23,\n  \"fields\": [\n    {\n      \"column\": \"id\",\n      \"properties\": {\n        \"dtype\": \"number\",\n        \"std\": 6,\n        \"min\": 0,\n        \"max\": 22,\n        \"num_unique_values\": 23,\n        \"samples\": [\n          15,\n          9,\n          0\n        ],\n        \"semantic_type\": \"\",\n        \"description\": \"\"\n      }\n    },\n    {\n      \"column\": \"name\",\n      \"properties\": {\n        \"dtype\": \"string\",\n        \"num_unique_values\": 23,\n        \"samples\": [\n          \"honda\",\n          \"miyanaga\",\n          \"uchida\"\n        ],\n        \"semantic_type\": \"\",\n        \"description\": \"\"\n      }\n    },\n    {\n      \"column\": \"description\",\n      \"properties\": {\n        \"dtype\": \"string\",\n        \"num_unique_values\": 23,\n        \"samples\": [\n          \"\\u30d7\\u30ed\\u30d5\\u30a3\\u30fc\\u30eb\\uff1a\\n\\u5927\\u5206\\u770c\\u51fa\\u8eab\\u3002\\n\\n\\u62c5\\u5f53\\u79d1\\u76ee\\uff1a\\n\\u8ca1\\u52d9\\u7ba1\\u7406\\u8ad6\\u3001\\u4f01\\u696d\\u8ad6\\u3001\\u30d5\\u30a1\\u30a4\\u30ca\\u30f3\\u30b9\\u3001\\u7d4c\\u55b6\\u53f2\\u3001\\u8a3c\\u5238\\u6295\\u8cc7\\u8ad6\\u3002\\n\\n\\u30bc\\u30df\\u30ca\\u30fc\\u30eb\\u30c6\\u30fc\\u30de\\uff1a\\n\\u4f01\\u696d\\u8ca1\\u52d9\\u304a\\u3088\\u3073\\u8a3c\\u5238\\u6295\\u8cc7\\u306b\\u95a2\\u3059\\u308b\\u7814\\u7a76\\n\\n\\u5b66\\u751f\\u3078\\u306e\\u30e1\\u30c3\\u30bb\\u30fc\\u30b8\\uff1a\\n\\u52c9\\u5b66\\u3084\\u90e8\\u6d3b\\u52d5\\u306b\\u52b1\\u307f\\u3001\\u6709\\u610f\\u7fa9\\u306a\\u5b66\\u751f\\u751f\\u6d3b\\u3092\\u9001\\u308a\\u307e\\u3057\\u3087\\u3046\\u3002\\n\\u3000\\n\\u9867\\u554f\\uff1a\\n\\u8a3c\\u5238\\u6295\\u8cc7\\u7814\\u7a76\\u4f1a\\n\\n\\u95a2\\u9023\\u30ad\\u30fc\\u30ef\\u30fc\\u30c9\\uff1a\\n\\u8a3c\\u5238\\u4f1a\\u793e\\u3001\\u9280\\u884c\\u3001\\u91d1\\u878d\\u696d\\u754c\\u3001\\u4e00\\u822c\\u4f01\\u696d\",\n          \"\\u30d7\\u30ed\\u30d5\\u30a3\\u30fc\\u30eb\\uff1a\\r\\n\\u5927\\u5b66\\u5352\\u696d\\u5f8c\\u300125\\u5e74\\u9593\\u306e\\u8a3c\\u5238\\u4f1a\\u793e\\u52e4\\u52d9\\u3092\\u901a\\u3058\\u3066\\u7d4c\\u6e08\\u306e\\u52d5\\u304d\\u3092\\u808c\\u3067\\u611f\\u3058\\u3066\\u904e\\u3054\\u3057\\u3066\\u304d\\u307e\\u3057\\u305f\\u3002\\u305d\\u306e\\u5f8c\\u5730\\u65b9\\u9280\\u884c\\u306b\\u8ee2\\u3058\\u305f\\u3053\\u3068\\u3067\\u91d1\\u878d\\u30fb\\u7d4c\\u6e08\\u306e\\u8996\\u91ce\\u304c\\u66f4\\u306b\\u5e83\\u304c\\u3063\\u305f\\u3068\\u601d\\u3063\\u3066\\u3044\\u307e\\u3059\\u3002\\u7523\\u7d4c\\u5927\\u3067\\u306f\\u91d1\\u878d\\u30fb\\u7d4c\\u6e08\\u3092\\u5b9f\\u5b66\\u306e\\u5074\\u9762\\u304b\\u3089\\u3082\\u4f1d\\u3048\\u305f\\u3044\\u3068\\u601d\\u3044\\u307e\\u3059\\u3002\\r\\n\\r\\n\\u62c5\\u5f53\\u79d1\\u76ee\\uff1a\\r\\n\\u6295\\u8cc7\\u6559\\u80b2\\u8ad6\\u3001\\u7d4c\\u6e08\\u60c5\\u5831\\u5206\\u6790\\u3001\\u91d1\\u878d\\u6a5f\\u95a2\\u8ad6\\r\\n\\r\\n\\u30bc\\u30df\\u30ca\\u30fc\\u30eb\\u30c6\\u30fc\\u30de\\uff1a\\r\\n\\u793e\\u4f1a\\u7684\\u306b\\u91cd\\u8981\\u306a\\u7d4c\\u6e08\\u4e8b\\u8c61\\u3092\\u7814\\u7a76\\u3059\\u308b\\u3002\\r\\n\\r\\n\\u5b66\\u751f\\u3078\\u306e\\u30e1\\u30c3\\u30bb\\u30fc\\u30b8\\uff1a\\r\\n\\u5730\\u7403\\u4e0a\\u306e\\u4eba\\u304c\\u52d5\\u304f\\u3068\\u304a\\u91d1\\u304c\\u52d5\\u304d\\u3001\\u7d4c\\u6e08\\u304c\\u5909\\u5316\\u3057\\u307e\\u3059\\u3002\\u666f\\u6c17\\u306f\\u898b\\u3048\\u307e\\u305b\\u3093\\u304c\\u78ba\\u304b\\u306b\\u5b58\\u5728\\u3057\\u3001\\u6211\\u3005\\u306e\\u65e5\\u5e38\\u751f\\u6d3b\\u306b\\u5f37\\u304f\\u5f71\\u97ff\\u3092\\u53ca\\u307c\\u3057\\u3066\\u3044\\u307e\\u3059\\u3002\\u91d1\\u5229\\u3084\\u7269\\u4fa1\\u306b\\u3064\\u3044\\u3066\\u77e5\\u308a\\u3001\\u3053\\u308c\\u3089\\u304c\\u666f\\u6c17\\u306b\\u53ca\\u307c\\u3059\\u4ed5\\u7d44\\u307f\\u3092\\u7406\\u89e3\\u3059\\u308b\\u3053\\u3068\\u306f\\u3001\\u4eca\\u5f8c\\u7686\\u3055\\u3093\\u304c\\u751f\\u304d\\u3066\\u3044\\u304f\\u4e0a\\u3067\\u5f37\\u3044\\u529b\\u3068\\u306a\\u308b\\u306f\\u305a\\u3067\\u3059\\u3002\\u3055\\u3042\\u3001\\u4e00\\u7dd2\\u306b\\u30c0\\u30a4\\u30ca\\u30df\\u30c3\\u30af\\u306a\\u7d4c\\u6e08\\u306e\\u52d5\\u304d\\u3092\\u5b66\\u7fd2\\u3057\\u307e\\u3057\\u3087\\u3046\\u3002\\r\\n\\r\\n\\u305d\\u306e\\u4ed6(\\u9867\\u554f\\u7b49)\\uff1a\\r\\n\\uff08\\u5439\\u594f\\u697d\\uff09\\u30b7\\u30f3\\u30d5\\u30a9\\u30cb\\u30c3\\u30af\\u30fb\\u30a2\\u30f3\\u30b5\\u30f3\\u30d6\\u30eb\\u9867\\u554f\\r\\n\\r\\n\\u95a2\\u9023\\u30ad\\u30fc\\u30ef\\u30fc\\u30c9\\uff1a\\r\\n\\u8a3c\\u5238\\u4f1a\\u793e\\u3001\\u9280\\u884c\\u3001\\u91d1\\u878d\\u696d\\u754c\\u3001\\u30d5\\u30a1\\u30a4\\u30ca\\u30f3\\u30b7\\u30e3\\u30eb\\u30d7\\u30e9\\u30f3\\u30ca\\u30fc\\uff08FP\\uff09\",\n          \"\\u30d7\\u30ed\\u30d5\\u30a3\\u30fc\\u30eb\\uff1a\\r\\n\\u5175\\u5eab\\u770c\\u51fa\\u8eab\\u3002\\u5bae\\u5d0e\\u5927\\u5b66\\u5927\\u5b66\\u9662\\u8fb2\\u5b66\\u5de5\\u5b66\\u7dcf\\u5408\\u7814\\u7a76\\u79d1\\u7269\\u8cea\\uff65\\u60c5\\u5831\\u5de5\\u5b66\\u5c02\\u653b\\u535a\\u58eb\\u5f8c\\u671f\\u8ab2\\u7a0b\\u4fee\\u4e86\\u3002\\u5175\\u5eab\\u770c\\u7acb\\u4f46\\u99ac\\u6280\\u8853\\u5927\\u5b66\\u6821\\u60c5\\u5831\\u5de5\\u5b66\\u79d1\\u52e4\\u52d9\\u3001\\u56fd\\u7acb\\u5b87\\u90e8\\u5de5\\u696d\\u9ad8\\u7b49\\u5c02\\u9580\\u5b66\\u6821\\u7d4c\\u55b6\\u60c5\\u5831\\u5b66\\u79d1\\u52e4\\u52d9\\u306a\\u3069\\u3092\\u7d4c\\u30662021\\u5e744\\u6708\\u3088\\u308a\\u73fe\\u8077\\u3002\\r\\n\\r\\n\\u62c5\\u5f53\\u79d1\\u76ee\\uff1a\\r\\n\\u30a2\\u30eb\\u30b4\\u30ea\\u30ba\\u30e0\\u3001C\\u8a00\\u8a9e\\u5fdc\\u7528\\u6f14\\u7fd2\\r\\n\\r\\n\\u30bc\\u30df\\u30ca\\u30fc\\u30eb\\u30c6\\u30fc\\u30de\\uff1a\\r\\n\\u60c5\\u5831\\u6559\\u80b2\\u6559\\u6750\\u306e\\u958b\\u767a\\u3001\\u4e2d\\u5c0f\\u4f01\\u696d\\u5411\\u3051DX\\u30e2\\u30c7\\u30eb\\u306e\\u691c\\u8a0e\\r\\n\\r\\n\\u5b66\\u751f\\u3078\\u306e\\u30e1\\u30c3\\u30bb\\u30fc\\u30b8\\uff1a\\r\\n\\u4e2d\\u5b66\\u6821\\u3084\\u9ad8\\u6821\\uff08\\u4e2d\\u7b49\\u6559\\u80b2\\uff09\\u306f\\u3001\\u4e3b\\u3068\\u3057\\u3066\\u300c\\u77e5\\u8b58\\u300d\\u3092\\u5b66\\u3076\\u3068\\u3053\\u308d\\u3067\\u3059\\u3002\\u5927\\u5b66\\uff08\\u9ad8\\u7b49\\u6559\\u80b2\\uff09\\u306f\\u3001 \\u300c\\u52c9\\u5f37\\u306e\\u3084\\u308a\\u65b9\\u300d\\uff08\\u554f\\u984c\\u306e\\u89e3\\u6c7a\\u6cd5\\uff09\\u3092\\u5b66\\u3076\\u3068\\u3053\\u308d\\u3067\\u3059\\u3002\\u5225\\u306e\\u898b\\u65b9\\u3092\\u3059\\u308b\\u3068\\u3001\\u4e2d\\u7b49\\u6559\\u80b2\\u306f\\u4e3b\\u3068\\u3057\\u3066\\u300c\\u904e\\u53bb\\u300d \\uff08\\u3082\\u3061\\u308d\\u3093\\u5927\\u4e8b\\u3067\\u3059\\u3002\\u904e\\u53bb\\u304c\\u3042\\u308b\\u304b\\u3089\\u3053\\u305d\\u73fe\\u5728\\u304c\\u3042\\u308a\\u3001\\u3055\\u3089\\u306b\\u672a\\u6765\\u3078\\u3068\\u3064\\u306a\\u304c\\u3063\\u3066\\u3044\\u304d\\u307e\\u3059\\u3002\\uff09\\u306b\\u95a2\\u3059\\u308b\\u52c9\\u5f37\\u3067\\u3042\\u308a\\u3001\\u9ad8\\u7b49\\u6559\\u80b2\\u306f\\u300c\\u672a\\u6765\\u300d\\uff08\\u65b0\\u3057\\u3044\\u4fa1\\u5024\\u306e\\u5275\\u9020\\uff09\\u306b\\u95a2\\u3059\\u308b\\u52c9\\u5f37\\u3067\\u3059\\u3002\\u672c\\u5b66\\u3067\\u3001\\u3042\\u306a\\u305f\\u306e\\u5922\\u3092\\u5b9f\\u73fe\\u3059\\u308b\\u790e\\u3092\\u7bc9\\u3044\\u3066\\u304f\\u3060\\u3055\\u3044\\u3002\\r\\n\\r\\n\\u95a2\\u9023\\u30ad\\u30fc\\u30ef\\u30fc\\u30c9\\uff1a\\r\\nIT\\u30fb\\u60c5\\u5831\\u3001\\u60c5\\u5831\\u79d1\\u6559\\u54e1\\u3001\\u30c7\\u30fc\\u30bf\\u30b5\\u30a4\\u30a8\\u30f3\\u30b9\"\n        ],\n        \"semantic_type\": \"\",\n        \"description\": \"\"\n      }\n    },\n    {\n      \"column\": \"pair\",\n      \"properties\": {\n        \"dtype\": \"number\",\n        \"std\": null,\n        \"min\": null,\n        \"max\": null,\n        \"num_unique_values\": 0,\n        \"samples\": [],\n        \"semantic_type\": \"\",\n        \"description\": \"\"\n      }\n    },\n    {\n      \"column\": \"similarity\",\n      \"properties\": {\n        \"dtype\": \"number\",\n        \"std\": null,\n        \"min\": null,\n        \"max\": null,\n        \"num_unique_values\": 0,\n        \"samples\": [],\n        \"semantic_type\": \"\",\n        \"description\": \"\"\n      }\n    }\n  ]\n}"
            }
          },
          "metadata": {},
          "execution_count": 6
        }
      ]
    },
    {
      "cell_type": "code",
      "source": [
        "print(fa_sentences) # 内容確認用"
      ],
      "metadata": {
        "id": "pGYrQwUuChf0",
        "colab": {
          "base_uri": "https://localhost:8080/"
        },
        "outputId": "e144a572-a7e0-4da4-d37c-fdd009fb9fe8"
      },
      "execution_count": 7,
      "outputs": [
        {
          "output_type": "stream",
          "name": "stdout",
          "text": [
            "['プロフィール：\\r\\n兵庫県出身。宮崎大学大学院農学工学総合研究科物質･情報工学専攻博士後期課程修了。兵庫県立但馬技術大学校情報工学科勤務、国立宇部工業高等専門学校経営情報学科勤務などを経て2021年4月より現職。\\r\\n\\r\\n担当科目：\\r\\nアルゴリズム、C言語応用演習\\r\\n\\r\\nゼミナールテーマ：\\r\\n情報教育教材の開発、中小企業向けDXモデルの検討\\r\\n\\r\\n学生へのメッセージ：\\r\\n中学校や高校（中等教育）は、主として「知識」を学ぶところです。大学（高等教育）は、 「勉強のやり方」（問題の解決法）を学ぶところです。別の見方をすると、中等教育は主として「過去」 （もちろん大事です。過去があるからこそ現在があり、さらに未来へとつながっていきます。）に関する勉強であり、高等教育は「未来」（新しい価値の創造）に関する勉強です。本学で、あなたの夢を実現する礎を築いてください。\\r\\n\\r\\n関連キーワード：\\r\\nIT・情報、情報科教員、データサイエンス', 'プロフィール：\\n出身は徳島で、東京と京都暮らしを経て宮崎に来ました。企業と大学でAI（人工知能）の研究・教育を続けてきました。赤ちゃんが育つようにAIを育てることや、人と一緒に創造的な活動をするAIを目指しています。生成AI（大規模言語モデル）のしくみを調べて人の知能の秘密を探る研究をしています。\\n\\n担当科目：\\nデータサイエンス入門、多変量解析、実践人工知能、機械学習、データサイエンス演習、情報と職業\\n\\nゼミナールテーマ：\\nデザイン思考により日常生活や地域での課題を発見し、解決策を考え、実現に必要なAI・データサイエンスのスキルを習得し、解決策を実装・実行・評価する、というプロジェクト活動を行います。生成AIを使いこなすことで、誰でもプログラミングできるようになります（そうなることを目指しています）。\\n\\n学生へのメッセージ：\\n皆さんが生きていく時代は、AI技術がさらに急速に発展し、皆さんの生活のすべてがAIと切り離せなくなります。その中で皆さんが大活躍できるように、一緒に最新のAI技術を勉強し、社会の将来像を討議・想像・創造しましょう。\\n\\nその他(顧問等)：\\nITリーダー塾担当：G検定\\n\\n関連キーワード：\\nIT・情報、AI、データサイエンス', 'プロフィール：\\n宮崎県出身、東京工業大学工学部社会工学科卒業、ハーバード大学大学院公共政策修士課程修了、宮崎県庁（企画・商工・財政部門等）、（財）国際開発センター主任研究員、（財）日本エネルギー経済研究所研究主幹、アイ・シー・ネット㈱シニア・コンサルタントなどを経て2015年4月より現職。\\n\\n担当科目：\\n国際経営論、生産工程論、人事組織論\\n\\n専門分野：\\n公共政策（産業政策、エネルギー政策）、科学技術社会論、エネルギー経済\\n\\n学会・社会活動：\\n日本公共政策学会、科学技術社会論学会、エネルギー・資源学会、研究・イノベーション学会、宮崎県地域産業活性化評議会委員、宮崎県イノベーション共創プラットフォーム委員、宮崎県企業成長促進プラットフォーム委員、宮崎県産業人材育成プラットフォーム委員、宮崎市工業振興計画策定委員会委員、宮崎市企業開発委員会委員\\n\\nゼミナールのミッション：\\n”鍛錬の場”としてのゼミナールの目標：自分の最も興味ある専門領域を見つけ、「考える力＝問う力(課題・問題設定力)」、「未来を創造する力」の養成\\n\\nゼミナールテーマ：\\nDX（デジタル変革）、及び時代変革（地球温暖化、資本主義・民主主義の揺らぎ等）が産業・経済・社会に及ぼすインパクトに関する研究\\n\\n学生へのメッセージ：\\n充実した人生を送っていくには、夢を描き、その夢の実現に向けてチャレンジし続けていくことが大切です。本学の教育環境の中で、そのチャレンジしていく方向性を見極めると同時に、チャレンジしていける基盤形成に努めてください。\\n\\n関連キーワード：\\n公務員、県庁、市役所、役場', 'プロフィール：\\n岡山県出身。誠実に生きていくことが信条です。心のなかでは、若いころの情熱といつでも「好奇心」をもって行動し、夢を追い続けていることです。\\n\\n担当科目：\\n商業科教育法、職業指導、教育実習Ⅰ・Ⅱ、簿記論Ⅰ・Ⅱ、ボランティア\\n\\n学生へのメッセージ：\\n応用する思考力を身につけるうえで大切なことは、どんな情報にふれて、どんな人たちと活動し、何をしていくか、ということです。\\n\\n関連キーワード：\\n商業科教員、教職', 'プロフィール：\\n福岡県八女市生まれ。九州大学大学院経済工学の分野で博士の学位を取得。約20年の外資系ＩＴ企業を経て、2008年より保健医療経営大学教授、2023年より宮崎産業経営大学経営学部教授として赴任し現在に至る。\\n\\n担当科目：\\nプログラミング基礎Ⅰ（プログラミング演習）\\nプログラミング基礎Ⅱ（応用プログラミング演習）\\nマルティメディア（マルチメディアⅠ）\\n情報通信ネットワーク論Ⅰ\\n情報通信ネットワーク論Ⅱ\\n問題解決技法（シミュレーション）\\n教育方法・技術論（情報通信技術の活用を含む）\\nモデル化とシミュレーション\\n\\nゼミナールテーマ：\\nデータサイエンス・ＡＩを用いた公立病院・公的病院の研究\\n\\n学生へのメッセージ：\\n学生を相手に自分の経験を活かして指導ができ、学生の「夢の手助け」をすることにやりがいを感じています。プログラミングをしっかり学習して、ものづくりの楽しさと達成感を共有してほしいと考えています。\\nまた、ゼミ生同士や気の合った友人たちと自分の将来を考え、自ら勉強会やサークル等を開催し、自分で考え行動する力（自主独立の精神）を身につけてほしいと願っています。\\n\\n関連キーワード：\\nIT・情報、プログラミング、医療関連、データサイエンス', 'プロフィール：\\r\\nクラウドコンピューティングの普及と同時にスマートフォンやタブレットなどモバイル端末の普及で、情報教育のあり方も必然的に変わってきます。単なるスキル教育ではなく、社会の動きを見据えた情報教育のあり方を研究しています。\\r\\n\\r\\n担当科目：\\r\\n情報倫理、コンピュータ管理演習、Webサイト構築演習、フランス語\\r\\n\\r\\nゼミナールテーマ：\\r\\nインターネット社会とメディアリテラシー\\r\\n\\r\\n学生へのメッセージ：\\r\\n大学生活の4年間というものは長いようでもあったという間に過ぎてしまう時間です。どのように過ごすかで、人生が大きく左右されるのは間違いありません。また、この4年間は仕事に拘束されない自由な時間を持てる最後の機会でもあります。固定観念にとらわれず、物事を相対的に捉えることのできる視点を養ってください。\\r\\n\\r\\nその他(顧問等)：\\r\\n硬式テニスサークル顧問、ボードゲーム同好会顧問、ITリーダー塾塾長\\r\\n\\r\\n関連キーワード：\\r\\nIT・情報、ネットワーク、国際関係', 'プロフィール：\\r\\n大学ではドイツ演劇を専攻しましたが、現在はドイツの職業教育について学んでいます。これからも新しい課題に積極的に取り組んでいきたいと思っています。\\r\\n\\r\\n担当科目：\\r\\nインターンシップ、エコビジネス、ドイツ語\\r\\n\\r\\nゼミナールテーマ：\\r\\nグリーンビジネスとグリーンジョブ\\r\\n\\r\\n学生へのメッセージ：\\r\\n学ぶという事は、新しい知識を獲得するためだけになされるのではありません。「学ぶ」事を通して問題を解決するための〈考え方〉を習得しているのです。\\r\\nすぐには役立ちそうにない勉強ほど後になって本当に役立ったりするものです。ですから、いろいろな科目に挑戦して下さい。\\r\\n\\r\\nその他(顧問等)：\\r\\nサーフィン部\\u3000部長\\r\\n\\r\\n関連キーワード：\\r\\n環境問題、環境ビジネス、プロサーファー、プロスポーツ', 'プロフィール：\\r\\n20年余り会社員をしてきました。企業で働いた経験をもとに、マーケティング理論だけでなく皆さんが社会に出たときに役に立つリアリティのある講義を行う努力をしていきたいと思っています。\\r\\n\\r\\n担当科目：\\r\\nマーケティング論、スポーツマーケティング、情報処理応用\\r\\n\\r\\nゼミナールテーマ：\\r\\n企業の商品企画活動を基点としたマーケティング戦略\\r\\n\\r\\n学生へのメッセージ：\\r\\n「同じような味のお菓子がたくさんあるのに、なぜか、こればかり買ってしまう」。皆さんには、そんな「マイブーム」の商品はありますか？実はこんなことに中にも皆さんに商品を『買わせてしまう』仕組みが存在しています。お客さんを分析して「なぜだかコレを買いたくなってしまう！」という風に誘導していくことが、マーケティングの最重要テーマです。一緒にマーケティングを学んで行きましょう！\\r\\n\\r\\nその他(顧問等)：\\r\\n空手部\\r\\n\\r\\n関連キーワード：\\r\\n農業、マーケティング、一般企業', 'プロフィール：\\r\\n宮崎県出身。電子機器メーカーなどを勤務後、大学院修了。短大の非常勤講師を経て現職。「閃きはとことん考え続ける者だけに降りてくる」をモットーに、宮崎県産業界に貢献できるカリスマーマーケターになるべく日々精進しております。\\r\\n\\r\\n担当科目：\\r\\n商学概論、経営シミュレーション、特別講義\\r\\n\\r\\nゼミナールテーマ：\\r\\n広告コミュニケーション戦略研究\\r\\n\\r\\n学生へのメッセージ：\\r\\n実践的理論とは、頭と体で汗をかき五感で習得すべきものだと考えます。大学生時代は、さまざまな場所、そしていろんなことにチャレンジしてください。\\r\\n\\r\\n関連キーワード：\\r\\n広告、マーケティング、起業、青年実業家養成塾', 'プロフィール：\\r\\n大学卒業後、25年間の証券会社勤務を通じて経済の動きを肌で感じて過ごしてきました。その後地方銀行に転じたことで金融・経済の視野が更に広がったと思っています。産経大では金融・経済を実学の側面からも伝えたいと思います。\\r\\n\\r\\n担当科目：\\r\\n投資教育論、経済情報分析、金融機関論\\r\\n\\r\\nゼミナールテーマ：\\r\\n社会的に重要な経済事象を研究する。\\r\\n\\r\\n学生へのメッセージ：\\r\\n地球上の人が動くとお金が動き、経済が変化します。景気は見えませんが確かに存在し、我々の日常生活に強く影響を及ぼしています。金利や物価について知り、これらが景気に及ぼす仕組みを理解することは、今後皆さんが生きていく上で強い力となるはずです。さあ、一緒にダイナミックな経済の動きを学習しましょう。\\r\\n\\r\\nその他(顧問等)：\\r\\n（吹奏楽）シンフォニック・アンサンブル顧問\\r\\n\\r\\n関連キーワード：\\r\\n証券会社、銀行、金融業界、ファイナンシャルプランナー（FP）', 'プロフィール：\\n通信機器メーカーの宮城日本電気株式会社、カナダ系EMS企業のセレスティカ・ジャパン株式会社等の勤務を経て、宮崎に赴任いたしました。長年に渡る豊富な実務経験と経営学に関する学術研究の実績がセールスポイントです。\\n\\n担当科目：\\n経営学総論、経営管理論、経営組織論\\n\\nゼミナールテーマ：\\n経営戦略論と経営組織論の相互作用に関する研究\\n\\n学生へのメッセージ：\\n大きな夢を持って経営学に挑戦することを期待しております。\\n\\n関連キーワード：\\n一般企業、起業、経営コンサルタント', 'プロフィール：\\r\\n出身は千葉県です。千葉県と宮崎県は、気候も似ていて穏やかに過ごしています。専門は、持続可能性に向けた会計学です。時代の中に求められる理論と実践を一緒に学んでいきましょう。\\r\\n\\r\\n担当科目：\\r\\n会計学、上級簿記、会計監査論、経営分析、ビジネスゲーム\\r\\n\\r\\nゼミナールテーマ：\\r\\nゼミのテーマは、「持続可能性に向けた経営と会計」です。とりわけ、会計学の知恵を活かして、「何を測り、何を改善すればいいのか」という問題意識を持って学習していきます。\\r\\n\\r\\n学生へのメッセージ：\\r\\n大学の4年間は、社会に出る前の準備期間です。この4年間で「何を経験すべきか」を常に念頭に置きながら、充実した日々を過ごしてください。\\r\\n\\r\\n関連キーワード：\\r\\n公認会計士、税理士、国税専門官、税務会計塾、日商簿記検定', 'プロフィール：\\r\\n宮城県出身、宮城大学事業構想学研究科博士後期課程修了、博士（事業構想学）。会計的な視点から医療等の地域・社会システム領域の研究をしています。2012年より本大学で勤務しています。\\r\\n\\r\\n担当科目：\\r\\n財務諸表論A・B、税務会計論A・B、医療事務セミナー\\r\\n\\r\\nゼミナールテーマ：\\r\\n会計的な視点による様々な社会問題に関する考察\\r\\n\\r\\n学生へのメッセージ：\\r\\nどんなコストがかかり、どんなリスクがあり、どんなリターンが考えられるか、だから実行しよう、やめよう。どんな意思決定でもそのような計算が重要です。そしてプラスになる、利益になると判断できたならば積極的にチャレンジすることが重要だと考えます。学生の皆様の利益になるような学問を提供し、共に活動したいと思っています。一緒に頑張りましょう。\\r\\n\\r\\nその他(顧問等)：\\r\\nバスケットボール部部長、医療関連塾塾長\\r\\n\\r\\n関連キーワード：\\r\\n公認会計士、税理士、国税専門官、医療事務、税務会計塾、日商簿記検定', 'プロフィール：\\n出身は岐阜県です。小学校から大学までサッカーをやっていました。運動が好きなため、年に1回はマラソン大会に出ています。専門はコーポレートガバナンスですが、宮崎に来てからは経済学の手法を使った農業の研究を進めています。\\n\\n担当科目：\\n計量経済学、金融シミュレーション、観光学概論、国際観光論、観光福祉論\\n\\nゼミナールテーマ：\\n地方創生と観光\\nフィールドワークも行いながら、ポストコロナ時代を見据えた観光客の誘致に取り組みます。\\n\\n学生へのメッセージ：\\n大学内では少しスマホから目を離して、新聞や本を読みましょう。将来役立つ知識が身に付くはずです。\\n\\nその他(顧問等)：\\n国家大計塾指導教員、観光・旅行塾塾長、軽音楽部顧問\\n\\n関連キーワード：\\n観光、ホテル、旅行会社、地域活性化', 'プロフィール：\\n出身は福岡市です。大学入学後は山口、広島と移り住み、ふたたび九州へやってきました。主に大学生を対象とした心理的な発達に関して研究をしています。\\n\\n担当科目：\\n人間と心理、教育心理学、教育相談論\\n\\n学生へのメッセージ：\\n大学生活では、さまざまな人との出会いを通して、新しい学びや人間関係に触れるチャンスがあります。自分の目に見える範囲、手が届く範囲でそれらを深めつつ、その範囲を少しずつ広げてもらえたらと思います。\\n\\n関連キーワード：\\n新体操、教職、教員養成', 'プロフィール：\\n大分県出身。\\n\\n担当科目：\\n財務管理論、企業論、ファイナンス、経営史、証券投資論。\\n\\nゼミナールテーマ：\\n企業財務および証券投資に関する研究\\n\\n学生へのメッセージ：\\n勉学や部活動に励み、有意義な学生生活を送りましょう。\\n\\u3000\\n顧問：\\n証券投資研究会\\n\\n関連キーワード：\\n証券会社、銀行、金融業界、一般企業', 'プロフィール：\\n出身は大分県です。これまで培ってきた脳波や脳機能計測、視線分析などの知見を活かして、経営学とも交わる研究を進めていきます。\\n\\n担当科目：\\n経営情報論Ⅰ・Ⅱ、情報社会論、C言語Ⅰ・Ⅱなど\\n\\nゼミナールテーマ：\\n「脳波や視線分析などの生体情報を用いて経済活動を捉える」\\n\\n学生へのメッセージ：\\nAIが進化するこれからの時代はIQよりもEQが大切になると言われています。EQとは心の知能指数とも呼ばれるもので、感情の豊かさを表すまさに人間力そのものです。EQが高い人は、共感能力に優れ、困難な課題にぶつかっても最後までやり抜くことができます。IQは伸ばしにくいと言われていますが、EQは努力や経験によって未来伸ばすことができます。ぜひ学生の皆さんは、このEQを磨き、人間力を高めてください。\\n\\nその他(顧問等)：\\nITリーダー塾指導教員\\n\\n関連キーワード：\\nIT・情報、プログラミング、データサイエンス', 'プロフィール：\\r\\n東京都出身。大学院を修了後、非常勤講師を経て、宮崎産業経営大学経営学部准教授に着任して現在に至ります。会計情報という研究テーマからスタートし、最近では公会計システムについて分析を行っています。\\r\\n\\r\\n担当科目：\\r\\n簿記論、原価計算論、コンピュータ概論、情報システム論\\r\\n\\r\\nゼミナールテーマ：\\r\\n情報表現とビジネスゲーム演習\\r\\n\\r\\n学生へのメッセージ：\\r\\n担当している科目は会計学系および情報学系の科目です。本学を中心として「宮崎」という地域に貢献できるよう心掛けています。学生諸君にとって貴重な大学生活となるように、学習面に限らず様々な支援を行っていきます。\\r\\n\\r\\nその他(顧問等)：\\r\\n剣道部、バドミントン部、男女ダンス部、バレーボール部、各顧問\\r\\n\\r\\n関連キーワード：\\r\\n公認会計士、税理士、税務会計塾、国税専門官、日商簿記検定', 'プロフィール：\\n宮崎市出身です。大学院修了後、宮崎県の県立高校で17年間、短期大学で3年間教鞭を執ったのち、本学に着任しました。趣味はスポーツ観戦で、特にラグビー、NFL、スヌーカー、野球、インディーカーが大好きです。\\n\\n担当科目：\\n英語Ａ・Ｂ・Ｃ、ビジネス英語、異文化理解と国際交流\\n\\n学生へのメッセージ：\\n学生の皆さんもぜひ「思い立ったら即行動」を念頭に、寝る間を惜しんで行動するくらい様々な経験をして自らの人間力を高めていってほしいと思います。\\n\\nその他(顧問等)：\\n英語研究会\\n\\n関連キーワード：\\n英語、英会話、TOEIC、英検、国際関係', 'プロフィール：\\n理学部物理学科出身で、経済の数理モデルについて研究をしています。北海道出身です。\\n\\n担当科目：\\nマクロ経済学Ⅰ・Ⅱ\\n統計学Ⅰ・Ⅱ\\n基礎数学Ⅰ・Ⅱ\\n経済政策論\\n日本経済論\\n\\nゼミナールテーマ：\\n経済を表現するための基礎となるモデルを習得する\\n\\nその他(顧問等)：\\n弓道部\\n\\n学生へのメッセージ：\\n皆さんとは数学を使う授業などで会うことが多そうです。高校のときに数学が苦手だった人がいるかもしれませんが、大学では専門分野ごとに使われる数学手法が限定されるのであまり気負わず接するのが良いです。\\n\\n関連キーワード：\\n経済学、統計学、数学', 'プロフィール：\\r\\n福岡県出身です。西南学院大学大学院経済学研究科経済学専攻博士後期課程修了、博士(経済学)。趣味は映画館でポップコーンを食べること、美術館、博物館へ行くことです。学芸員資格も持っています。\\r\\n\\r\\n担当科目：\\r\\n行動経済学、財政学\\r\\n\\r\\nゼミナールテーマ：\\r\\n行動経済学的視点からの日常生活や実社会への応用\\r\\n\\r\\n学生へのメッセージ：\\r\\n人はつい新しい事をやる際に失敗したときのことを考えて躊躇いがちです。大学での4年間でこれが積み重なると、みなさんにとっては失敗したとき以上の損失となります。大学での4年間は長いようでとても短いものです。この4年間で興味のある事や新しい事へのチャレンジを率先して行い、充実したものにして下さい。\\r\\n\\r\\n関連キーワード：\\r\\n経済学、統計学、数学', 'プロフィール：\\r\\n奈良県出身です。ミクロ経済学が専門で、制度を変更することで人の行動が変化する点が面白く、経済学に興味を持ちました。趣味はカメラを持って散歩をすることです。他にも野球観戦、将棋、麻雀が好きです。\\r\\n\\r\\n担当科目：\\r\\nミクロ経済学、ゲーム理論、産業組織論、環境経済学\\r\\n\\r\\nゼミナールテーマ：\\r\\nミクロ経済学を使った経済現象の分析\\r\\n\\r\\n学生へのメッセージ：\\r\\n皆さんの特徴や個性を表すには、長所を伸ばしていくことが効果的だと思っています。短所を克服することも大切ですが、長所を伸ばして個性を磨くことも重要です。大学生活の中では、自分の好きなことに熱中したり、新しく発見したり、さまざまなことに意欲的に取り組んでみてください。面白い！興味がある！と思ったことは行動に移してみましょう。 ぜひ大学生活を有意義なものにしてください。\\r\\n\\r\\n関連キーワード：\\r\\n経済学、統計学、数学', 'プロフィール：\\n鹿児島県出身。宮崎産業経営大学経営学部を卒業し、鹿屋体育大学大学院体育学研究科を２０２１年３月に修了しました。母校で教員、指導者ができることに感謝し、精進してまいります。\\n\\n担当科目：\\nスポーツ総合A\\n\\n学生へのメッセージ：\\n勉強だけでなく、今だからこそできる経験をたくさん積んで充実した学生生活を送ってください。\\n\\nその他(顧問等)：\\n硬式野球部コーチ\\n\\n関連キーワード：\\n野球関係、プロスポーツ、スポーツ関係企業、体育教員']\n"
          ]
        }
      ]
    },
    {
      "cell_type": "markdown",
      "source": [
        "### 2. 埋め込みを生成"
      ],
      "metadata": {
        "id": "zwznY0nZ5VLm"
      }
    },
    {
      "cell_type": "code",
      "source": [
        "fa_embeddings = model.encode(fa_sentences)"
      ],
      "metadata": {
        "id": "k5s2-yHR5AzU"
      },
      "execution_count": 8,
      "outputs": []
    },
    {
      "cell_type": "code",
      "source": [
        "print(fa_embeddings) # 内容確認用\n",
        "print(type(fa_sentences)) # debug用\n",
        "fa_embeddings.shape # debug用"
      ],
      "metadata": {
        "colab": {
          "base_uri": "https://localhost:8080/"
        },
        "id": "eYSkL4B6dgfO",
        "outputId": "728c1383-1f3c-4e7f-bc00-a876a69648d6"
      },
      "execution_count": 9,
      "outputs": [
        {
          "output_type": "stream",
          "name": "stdout",
          "text": [
            "[[ 0.2838758  -0.03769649 -0.07489891 ... -0.36349428  0.22956458\n",
            "   0.35593292]\n",
            " [ 0.22838707  0.14949271 -0.278361   ... -0.46508095  0.03751489\n",
            "   0.1478695 ]\n",
            " [-0.067688    0.19038554  0.19477835 ... -0.48034388  0.11822446\n",
            "  -0.3817225 ]\n",
            " ...\n",
            " [ 0.22629017 -0.12523183 -0.16998877 ... -0.14100853 -0.00701522\n",
            "   0.45407796]\n",
            " [-0.04642358  0.25242272 -0.05341878 ... -0.14016965  0.17206168\n",
            "  -0.00416028]\n",
            " [ 0.4710699  -0.02741132 -0.413981   ... -0.5642115  -0.2758948\n",
            "  -0.12221548]]\n",
            "<class 'list'>\n"
          ]
        },
        {
          "output_type": "execute_result",
          "data": {
            "text/plain": [
              "(23, 768)"
            ]
          },
          "metadata": {},
          "execution_count": 9
        }
      ]
    },
    {
      "cell_type": "markdown",
      "source": [
        "### 3A. Google Driveにembeddingsを保存するプログラム"
      ],
      "metadata": {
        "id": "sDHCRgMawChU"
      }
    },
    {
      "cell_type": "markdown",
      "source": [
        "GPUが使えない場合に備えて、一度計算したembeddingを保存して利用できるようにした。"
      ],
      "metadata": {
        "id": "BEpLkfjArxoP"
      }
    },
    {
      "cell_type": "code",
      "source": [
        "import os\n",
        "import torch\n",
        "\n",
        "# 保存するディレクトリのパスを指定（存在しない場合は作成）\n",
        "save_dir = '/content/drive/MyDrive/Colab_files'\n",
        "if not os.path.exists(save_dir):\n",
        "    os.makedirs(save_dir)\n",
        "\n",
        "# ファイルに保存\n",
        "file_path = os.path.join(save_dir, 'fa_embeddings.pt')\n",
        "torch.save(fa_embeddings, file_path)\n",
        "\n",
        "print(f'embeddingsが{file_path}に保存されました。')"
      ],
      "metadata": {
        "id": "QSXt5abMvrC0",
        "colab": {
          "base_uri": "https://localhost:8080/"
        },
        "outputId": "e52f8e6a-7c00-42bd-9795-2fa3f71ca516"
      },
      "execution_count": 11,
      "outputs": [
        {
          "output_type": "stream",
          "name": "stdout",
          "text": [
            "embeddingsが/content/drive/MyDrive/Colab_files/fa_embeddings.ptに保存されました。\n"
          ]
        }
      ]
    },
    {
      "cell_type": "markdown",
      "source": [
        "### 3B. Google Driveからembeddingsを読み出すプログラム"
      ],
      "metadata": {
        "id": "Hsi653f2wEDl"
      }
    },
    {
      "cell_type": "code",
      "source": [
        "import os\n",
        "import torch\n",
        "\n",
        "# 読み出すファイルのパスを指定\n",
        "file_path = '/content/drive/MyDrive/Colab_files/fa_embeddings.pt'\n",
        "\n",
        "# ファイルが存在するか確認\n",
        "if os.path.exists(file_path):\n",
        "    # ファイルから読み出し\n",
        "    fa_embeddings = torch.load(file_path)\n",
        "    print(f'embeddingsが{file_path}から読み出されました。サイズ: {fa_embeddings.shape}')\n",
        "else:\n",
        "    print(f'{file_path}が見つかりません。ファイルパスを確認してください。')\n"
      ],
      "metadata": {
        "id": "JsDbgHrFv8jN",
        "colab": {
          "base_uri": "https://localhost:8080/"
        },
        "outputId": "355ec5ed-cb9e-413a-bbae-964f8a5f618b"
      },
      "execution_count": 13,
      "outputs": [
        {
          "output_type": "stream",
          "name": "stdout",
          "text": [
            "embeddingsが/content/drive/MyDrive/Colab_files/fa_embeddings.ptから読み出されました。サイズ: (23, 768)\n"
          ]
        },
        {
          "output_type": "stream",
          "name": "stderr",
          "text": [
            "<ipython-input-13-9b99e177ba09>:10: FutureWarning: You are using `torch.load` with `weights_only=False` (the current default value), which uses the default pickle module implicitly. It is possible to construct malicious pickle data which will execute arbitrary code during unpickling (See https://github.com/pytorch/pytorch/blob/main/SECURITY.md#untrusted-models for more details). In a future release, the default value for `weights_only` will be flipped to `True`. This limits the functions that could be executed during unpickling. Arbitrary objects will no longer be allowed to be loaded via this mode unless they are explicitly allowlisted by the user via `torch.serialization.add_safe_globals`. We recommend you start setting `weights_only=True` for any use case where you don't have full control of the loaded file. Please open an issue on GitHub for any issues related to this experimental feature.\n",
            "  fa_embeddings = torch.load(file_path)\n"
          ]
        }
      ]
    },
    {
      "source": [
        "print(type(fa_sentences)) # debug用\n",
        "fa_embeddings.shape # debug用"
      ],
      "cell_type": "code",
      "metadata": {
        "id": "vI3qcwVd7XxH",
        "colab": {
          "base_uri": "https://localhost:8080/"
        },
        "outputId": "836ad3c6-8b24-4afc-a71a-f5118cd29e16"
      },
      "execution_count": 14,
      "outputs": [
        {
          "output_type": "stream",
          "name": "stdout",
          "text": [
            "<class 'list'>\n"
          ]
        },
        {
          "output_type": "execute_result",
          "data": {
            "text/plain": [
              "(23, 768)"
            ]
          },
          "metadata": {},
          "execution_count": 14
        }
      ]
    },
    {
      "cell_type": "markdown",
      "source": [
        "### 4. コサイン類似度の確認\n",
        "\n",
        "（割り当て作業には必要ないが）コサイン類似度が類似度の指標として妥当であることの確認用"
      ],
      "metadata": {
        "id": "_aheupZp6Q5z"
      }
    },
    {
      "cell_type": "markdown",
      "source": [
        "その１：コサイン類似度で、ある教員と全教員との類似度を計算した後で、全教員を類似度の降順で並べて、faculty.csvのname列の名前で表示する"
      ],
      "metadata": {
        "id": "6gX-WMZ_f-gZ"
      }
    },
    {
      "cell_type": "code",
      "source": [
        "from sklearn.metrics.pairwise import cosine_similarity\n",
        "\n",
        "# 例として、2番目の教員をクエリとして使用し他の教員とのコサイン類似度を計算\n",
        "# query_embedding = fa_embeddings[0].reshape(1, -1)  # 最初の教員の埋め込みベクトル\n",
        "query_embedding = fa_embeddings[1].reshape(1, -1)\n",
        "similarity_scores = cosine_similarity(query_embedding, fa_embeddings).flatten()\n",
        "\n",
        "# 類似度スコアに基づいて文書のインデックスを降順にソート\n",
        "sorted_doc_indices = similarity_scores.argsort()[::-1]\n",
        "\n",
        "# 類似度の降順に名前と類似度スコアを表示\n",
        "print(\"全教員を類似度の降順で表示:\")\n",
        "for idx in sorted_doc_indices:\n",
        "    print(f\"{faculty_df['name'].iloc[idx]}: {similarity_scores[idx]:.4f}\")"
      ],
      "metadata": {
        "id": "rigC73Xj6JIj",
        "colab": {
          "base_uri": "https://localhost:8080/"
        },
        "outputId": "f688e679-09ef-4123-af31-c6dff3c14f0e"
      },
      "execution_count": 15,
      "outputs": [
        {
          "output_type": "stream",
          "name": "stdout",
          "text": [
            "全教員を類似度の降順で表示:\n",
            "oka: 1.0000\n",
            "motomura: 0.8594\n",
            "uchida: 0.8147\n",
            "kawashima: 0.8091\n",
            "oouchi: 0.7961\n",
            "shiraishi: 0.7932\n",
            "morita: 0.7495\n",
            "yuhara: 0.7341\n",
            "nishida: 0.7194\n",
            "ideyama: 0.7108\n",
            "yamanashi: 0.6759\n",
            "hidaka: 0.6732\n",
            "taketsugu: 0.6728\n",
            "okumura: 0.6719\n",
            "tanaka: 0.6703\n",
            "honda: 0.6692\n",
            "kasagi: 0.6496\n",
            "hagihara: 0.6473\n",
            "miyanaga: 0.6328\n",
            "miyashita: 0.6324\n",
            "yasui: 0.6242\n",
            "sumi: 0.5908\n",
            "wakamatsu: 0.5144\n"
          ]
        }
      ]
    },
    {
      "cell_type": "markdown",
      "source": [
        "その２：コサイン類似度で階層的クラスタリング"
      ],
      "metadata": {
        "id": "8pc_-h-fgnJR"
      }
    },
    {
      "cell_type": "code",
      "source": [
        "# prompt: ユークリッド距離でなく、コサイン類似度で階層的クラスタリング\n",
        "\n",
        "from scipy.cluster.hierarchy import linkage, dendrogram, fcluster\n",
        "from scipy.spatial.distance import pdist\n",
        "import matplotlib.pyplot as plt\n",
        "\n",
        "# コサイン距離行列を計算；コサイン距離 = 1 - コサイン類似度；値の範囲は 0 から 2\n",
        "cosine_distances = pdist(fa_embeddings, metric='cosine')\n",
        "\n",
        "# 階層的クラスタリングを実行 (ward法を使用)\n",
        "linkage_matrix = linkage(cosine_distances, method='ward')\n",
        "\n",
        "# デンドログラムを描画\n",
        "plt.figure(figsize=(10, 7))\n",
        "dendrogram(linkage_matrix, labels=faculty_df['name'].tolist(), orientation='right')\n",
        "plt.title('Hierarchical Clustering of Faculty Embeddings (Cosine Distance)')\n",
        "plt.xlabel('Distance')\n",
        "plt.ylabel('Faculty')\n",
        "plt.show()\n",
        "\n",
        "# クラスタ数を指定してクラスタラベルを取得 (例: クラスタ数6)\n",
        "num_clusters = 6\n",
        "cluster_labels = fcluster(linkage_matrix, num_clusters, criterion='maxclust')\n",
        "\n",
        "# クラスタごとに教員名を表示\n",
        "for cluster_id in range(1, num_clusters + 1):\n",
        "    print(f\"Cluster {cluster_id}:\")\n",
        "    cluster_indices = [i for i, label in enumerate(cluster_labels) if label == cluster_id]\n",
        "    for idx in cluster_indices:\n",
        "        print(f\"  - {faculty_df['name'].iloc[idx]}\")\n",
        "    print()"
      ],
      "metadata": {
        "colab": {
          "base_uri": "https://localhost:8080/",
          "height": 1000
        },
        "id": "Y74X5sfIg8my",
        "outputId": "7ac82fb7-b4a6-4f9b-e242-f68db6c655f8"
      },
      "execution_count": 16,
      "outputs": [
        {
          "output_type": "display_data",
          "data": {
            "text/plain": [
              "<Figure size 1000x700 with 1 Axes>"
            ],
            "image/png": "[encoded data removed]"
          },
          "metadata": {}
        },
        {
          "output_type": "stream",
          "name": "stdout",
          "text": [
            "Cluster 1:\n",
            "  - uchida\n",
            "  - oka\n",
            "  - kawashima\n",
            "  - oouchi\n",
            "  - motomura\n",
            "  - morita\n",
            "\n",
            "Cluster 2:\n",
            "  - shiraishi\n",
            "  - taketsugu\n",
            "  - nishida\n",
            "  - hagihara\n",
            "\n",
            "Cluster 3:\n",
            "  - yasui\n",
            "  - wakamatsu\n",
            "\n",
            "Cluster 4:\n",
            "  - kasagi\n",
            "  - tanaka\n",
            "  - hidaka\n",
            "  - yuhara\n",
            "\n",
            "Cluster 5:\n",
            "  - okumura\n",
            "  - sumi\n",
            "\n",
            "Cluster 6:\n",
            "  - miyanaga\n",
            "  - ideyama\n",
            "  - honda\n",
            "  - yamanashi\n",
            "  - miyashita\n",
            "\n"
          ]
        }
      ]
    },
    {
      "cell_type": "markdown",
      "source": [
        "その３：演習問題：問い合わせに対して適切な教員を紹介するプログラムを作成しなさい。問い合わせを埋め込みに変換し、コサイン類似度が近い上位5名の教員名を順番を付けて表示して下さい。"
      ],
      "metadata": {
        "id": "pt2Bb1AihKAZ"
      }
    },
    {
      "cell_type": "code",
      "source": [
        "# prompt: 問い合わせに対して適切な教員を紹介するプログラムを作成しなさい。問い合わせを埋め込みに変換し、コサイン類似度が近い上位5名の教員名を順番を付けて表示して下さい。\n",
        "\n",
        "# 問い合わせを入力\n",
        "query = input(\"興味のある研究分野やテーマ、質問、将来どのような仕事をしたいか等を入力してください: \")\n",
        "\n",
        "# 問い合わせを埋め込みに変換\n",
        "query_embedding = model.encode(query).reshape(1, -1)\n",
        "\n",
        "# 教員の埋め込みとのコサイン類似度を計算\n",
        "similarity_scores = cosine_similarity(query_embedding, fa_embeddings).flatten()\n",
        "\n",
        "# 類似度スコアに基づいて教員のインデックスを降順にソート\n",
        "sorted_indices = similarity_scores.argsort()[::-1]\n",
        "\n",
        "# 上位5名の教員を表示\n",
        "print(\"\\nあなたにおすすめの教員:\")\n",
        "for i in range(5):\n",
        "    idx = sorted_indices[i]\n",
        "    print(f\"{i+1}. {faculty_df['name'].iloc[idx]} (類似度: {similarity_scores[idx]:.4f})\")"
      ],
      "metadata": {
        "colab": {
          "base_uri": "https://localhost:8080/"
        },
        "id": "o0q4n78AhUpe",
        "outputId": "dc8f81c1-5750-442b-9670-d2c70bf5aa89"
      },
      "execution_count": 24,
      "outputs": [
        {
          "output_type": "stream",
          "name": "stdout",
          "text": [
            "興味のある研究分野やテーマ、質問、将来どのような仕事をしたいか等を入力してください: 政治家\n",
            "\n",
            "あなたにおすすめの教員:\n",
            "1. okumura (類似度: 0.5042)\n",
            "2. sumi (類似度: 0.4190)\n",
            "3. yasui (類似度: 0.4079)\n",
            "4. miyanaga (類似度: 0.3869)\n",
            "5. hidaka (類似度: 0.3843)\n"
          ]
        }
      ]
    },
    {
      "cell_type": "markdown",
      "source": [
        "## 学生情報の処理\n",
        "\n"
      ],
      "metadata": {
        "id": "l3TTdQAzHcxX"
      }
    },
    {
      "cell_type": "markdown",
      "source": [
        "### 0. 学生情報の準備"
      ],
      "metadata": {
        "id": "AvG-9aVgtPah"
      }
    },
    {
      "cell_type": "markdown",
      "source": [
        "元の学生情報ファイルでは、学生による入力情報が複数セルに分けて記入されているため、これを1セル（descriptionf列のセル）にまとめておいて、それを埋め込みに変換する方針とする。\n",
        "\n",
        "GPT-4への指示：\n",
        "\n",
        "添付ファイルのdescription列に、次の内容を書きこんで下さい。\n",
        "\n",
        "将来希望する職業：各行の第5列の内容をここに転載\n",
        "\n",
        "この職業を希望する理由：各行の第6列の内容をここに転載\n",
        "\n",
        "自分の将来：各行の第7列の内容をここに転載"
      ],
      "metadata": {
        "id": "amZjVhwIvhGP"
      }
    },
    {
      "cell_type": "code",
      "source": [
        "# CSVファイルの読み込み\n",
        "# student_csv_path = '/content/drive/MyDrive/Colab_files/2023students_original.csv'  # 適切なパスに変更してください\n",
        "# student_csv_path = '/content/drive/MyDrive/Colab_files/2024students_original.csv'  # 適切なパスに変更してください\n",
        "student_csv_path = '/content/drive/MyDrive/Colab_files/2025students_original.csv'  # 適切なパスに変更してください\n",
        "df = pd.read_csv(student_csv_path)\n",
        "\n",
        "# Filling the description column with the required information\n",
        "df['description'] = df.apply(lambda row: f\"将来希望する職業：{row['将来希望する職業は何ですか？']}\\nこの職業を希望する理由：{row['その職業を希望する理由はなんですか。']}\\n自分の将来：{row['『自分の将来を考えよう』']}\", axis=1)\n",
        "\n",
        "# Save the modified dataframe to a new CSV file\n",
        "# output_file_path = '/content/drive/MyDrive/Colab_files/2023students.csv'\n",
        "# output_file_path = '/content/drive/MyDrive/Colab_files/2024students.csv'\n",
        "output_file_path = '/content/drive/MyDrive/Colab_files/2025students.csv'\n",
        "df.to_csv(output_file_path, index=False)\n",
        "\n",
        "output_file_path"
      ],
      "metadata": {
        "id": "zaSa-BZytlWt"
      },
      "execution_count": null,
      "outputs": []
    },
    {
      "cell_type": "markdown",
      "source": [
        "### 1. 学生CSVファイルからsentencesを作成"
      ],
      "metadata": {
        "id": "M6X-vZL0URZi"
      }
    },
    {
      "cell_type": "code",
      "source": [
        "import pandas as pd\n",
        "\n",
        "# CSVファイルの読み込み\n",
        "# student_csv_path = '/content/drive/MyDrive/Colab_files/2023students.csv'  # 適切なパスに変更してください\n",
        "# student_csv_path = '/content/drive/MyDrive/Colab_files/2024students.csv'  # 適切なパスに変更してください\n",
        "student_csv_path = '/content/drive/MyDrive/Colab_files/2025students.csv'  # 適切なパスに変更してください\n",
        "student_df = pd.read_csv(student_csv_path)\n",
        "# faculty_df = pd.read_csv(faculty_csv_path, encoding='shift_jis')\n",
        "\n",
        "# NaNやNoneを含む可能性がある行を削除 <- エラー対策\n",
        "student_df = student_df.dropna(subset=['description'])\n",
        "\n",
        "# description列からsentencesリストを生成\n",
        "st_sentences = student_df['description'].tolist()\n",
        "\n",
        "# sentencesの各要素が文字列であることを確認 <- エラー対策\n",
        "st_sentences = [str(sentence) for sentence in st_sentences]"
      ],
      "metadata": {
        "id": "FrY1PySSHyZm"
      },
      "execution_count": null,
      "outputs": []
    },
    {
      "cell_type": "code",
      "source": [
        "print(st_sentences) # 確認用"
      ],
      "metadata": {
        "id": "OMlknjHlJXFb"
      },
      "execution_count": null,
      "outputs": []
    },
    {
      "cell_type": "markdown",
      "source": [
        "### 2. 埋め込みを生成"
      ],
      "metadata": {
        "id": "0GxYuum5J-zF"
      }
    },
    {
      "cell_type": "code",
      "source": [
        "st_embeddings = model.encode(st_sentences)"
      ],
      "metadata": {
        "id": "mA182fmUKEGh"
      },
      "execution_count": null,
      "outputs": []
    },
    {
      "cell_type": "markdown",
      "source": [
        "### Google Driveにembeddingsを保存するプログラム"
      ],
      "metadata": {
        "id": "MHZ0fv0SUGcH"
      }
    },
    {
      "cell_type": "code",
      "source": [
        "import os\n",
        "import torch\n",
        "\n",
        "# 保存するディレクトリのパスを指定（存在しない場合は作成）\n",
        "save_dir = '/content/drive/MyDrive/Colab_files'  # 'your_directory'は適宜変更してください\n",
        "if not os.path.exists(save_dir):\n",
        "    os.makedirs(save_dir)\n",
        "\n",
        "# ファイルに保存\n",
        "file_path = os.path.join(save_dir, 'st_embeddings.pt')\n",
        "torch.save(st_embeddings, file_path)\n",
        "\n",
        "print(f'embeddingsが{file_path}に保存されました。')"
      ],
      "metadata": {
        "id": "ck2-drcKxuNT"
      },
      "execution_count": null,
      "outputs": []
    },
    {
      "cell_type": "markdown",
      "source": [
        "### Google Driveからembeddingsを読み出すプログラム"
      ],
      "metadata": {
        "id": "l1GumuA3UKIQ"
      }
    },
    {
      "cell_type": "code",
      "source": [
        "import os\n",
        "import torch\n",
        "\n",
        "# 読み出すファイルのパスを指定\n",
        "file_path = '/content/drive/MyDrive/Colab_files/st_embeddings.pt'\n",
        "\n",
        "# ファイルが存在するか確認\n",
        "if os.path.exists(file_path):\n",
        "    # ファイルから読み出し\n",
        "    st_embeddings = torch.load(file_path)\n",
        "    print(f'embeddingsが{file_path}から読み出されました。サイズ: {st_embeddings.shape}')\n",
        "else:\n",
        "    print(f'{file_path}が見つかりません。ファイルパスを確認してください。')"
      ],
      "metadata": {
        "id": "2Qv6PnLgULEE"
      },
      "execution_count": null,
      "outputs": []
    },
    {
      "cell_type": "code",
      "source": [
        "st_embeddings.shape # debug用"
      ],
      "metadata": {
        "id": "XZp-vZ0wrp--",
        "colab": {
          "base_uri": "https://localhost:8080/"
        },
        "outputId": "78d7eeb9-4c21-4ec8-c1e1-8f1c7bb6a060"
      },
      "execution_count": null,
      "outputs": [
        {
          "output_type": "execute_result",
          "data": {
            "text/plain": [
              "torch.Size([93, 768])"
            ]
          },
          "metadata": {},
          "execution_count": 25
        }
      ]
    },
    {
      "cell_type": "markdown",
      "source": [
        "## 学生の教員への割り当て"
      ],
      "metadata": {
        "id": "FeWHuSyWYGE9"
      }
    },
    {
      "cell_type": "markdown",
      "source": [
        "### 1. コサイン類似度で全学生-全教員間の類似度を計算\n",
        "\n",
        "\n"
      ],
      "metadata": {
        "id": "_70JlQv_cUJW"
      }
    },
    {
      "cell_type": "markdown",
      "source": [
        "以下の2種類のソート結果は、割り当てアルゴリズムでは使用しないが、埋め込みや類似度の妥当性の検討で使用。\n",
        "*   各学生について降順でソート（類似した順に全教員を表示）\n",
        "*   各教員について降順でソート（類似した順に全学生を表示）"
      ],
      "metadata": {
        "id": "h4m2qw721Fpu"
      }
    },
    {
      "cell_type": "code",
      "source": [
        "from sklearn.metrics.pairwise import cosine_similarity\n",
        "import numpy as np\n",
        "\n",
        "# Convert tensors to numpy arrays for compatibility with sklearn\n",
        "fa_embeddings_np = fa_embeddings.numpy()\n",
        "st_embeddings_np = st_embeddings.numpy()\n",
        "\n",
        "# Calculate cosine similarity\n",
        "# The result will be a matrix of shape [98, 23] where each row corresponds to a student and each column to a faculty\n",
        "# 2024年度は、93x23 → 重複があったので 92x23\n",
        "cos_sim = cosine_similarity(st_embeddings_np, fa_embeddings_np)\n",
        "\n",
        "# Sort similarities for each student\n",
        "student_sorted_indices = np.argsort(-cos_sim, axis=1)  # Sort indices in descending order of similarity for each student\n",
        "\n",
        "# Sort similarities for each faculty\n",
        "faculty_sorted_indices = np.argsort(-cos_sim.T, axis=1)  # Sort indices in descending order of similarity for each faculty\n",
        "\n",
        "student_sorted_indices, faculty_sorted_indices"
      ],
      "metadata": {
        "id": "I_9W1ORqcPn0"
      },
      "execution_count": null,
      "outputs": []
    },
    {
      "cell_type": "markdown",
      "source": [
        "GPT-4への指示：\n",
        "\n",
        "上記の結果を、次の2つのファイルに書き加えて下さい。\n",
        "\n",
        "2023students.csv: このファイルのsimilarity列に、類似した順に全ファカルティを表示して下さい。ファカルティはfaculty.csvのname列の名前（faculty.csvの掲載順とfa_embeddingsの掲載順は一致しています）で表示して下さい。\n",
        "\n",
        "faculty.csv: このファイルのsimilarity列に、類似した順に全学生を表示して下さい。学生は2023students.csvのid列の番号（これst_はembeddingsの順番と一致しています）で表示して下さい。"
      ],
      "metadata": {
        "id": "sW8YVvRm1o8M"
      }
    },
    {
      "cell_type": "code",
      "source": [
        "import pandas as pd\n",
        "\n",
        "# Load the CSV files\n",
        "# student_df = pd.read_csv('/content/drive/MyDrive/Colab_files/2023students.csv')\n",
        "student_df = pd.read_csv('/content/drive/MyDrive/Colab_files/2024students.csv')\n",
        "faculty_df = pd.read_csv('/content/drive/MyDrive/Colab_files/2024faculty.csv')\n",
        "\n",
        "# Verify the content of the files\n",
        "student_df.head(), faculty_df.head()"
      ],
      "metadata": {
        "id": "n8yGJEhogavp"
      },
      "execution_count": null,
      "outputs": []
    },
    {
      "cell_type": "code",
      "source": [
        "# Mapping faculty indices to names\n",
        "faculty_names = faculty_df['name'].tolist()\n",
        "\n",
        "# Updating the 'similarity' column for students with faculty names in descending similarity order\n",
        "student_df['similarity'] = ['; '.join([faculty_names[i] for i in row]) for row in student_sorted_indices]\n",
        "\n",
        "# Mapping student indices to their IDs\n",
        "student_ids = student_df['id'].tolist()\n",
        "\n",
        "# Updating the 'similarity' column for faculties with student IDs in descending similarity order\n",
        "faculty_df['similarity'] = ['; '.join([str(student_ids[i]) for i in row]) for row in faculty_sorted_indices]\n",
        "\n",
        "# Save the updated dataframes to new CSV files\n",
        "# updated_students_csv_path = '/content/drive/MyDrive/Colab_files/updated_2023students.csv'\n",
        "updated_students_csv_path = '/content/drive/MyDrive/Colab_files/updated_2024students.csv'\n",
        "updated_faculty_csv_path = '/content/drive/MyDrive/Colab_files/updated_2024faculty.csv'\n",
        "\n",
        "student_df.to_csv(updated_students_csv_path, index=False)\n",
        "faculty_df.to_csv(updated_faculty_csv_path, index=False)\n",
        "\n",
        "updated_students_csv_path, updated_faculty_csv_path"
      ],
      "metadata": {
        "id": "PcgA7nmjgmwK"
      },
      "execution_count": null,
      "outputs": []
    },
    {
      "cell_type": "markdown",
      "source": [
        "### 2. 割り当てアルゴリズム\n",
        "\n",
        "何らかの損失関数を定義して最適化するのが正攻法だが、タスクの性質上、そこまでの精度は必要ないと判断し、計算量が小さい決定的なアルゴリズムを作ることにした。"
      ],
      "metadata": {
        "id": "cBa_5OogWIht"
      }
    },
    {
      "cell_type": "markdown",
      "source": [
        "GPT-4への指示（アルゴリズムは人が考え、実装は生成AIに任せるという分業スタイル）：\n",
        "\n",
        "---\n",
        "次の手順のプログラムを作成して下さい。\n",
        "1. 全学生-全ファカルティ間の埋め込みのコサイン類似度を計算する。\n",
        "2. すべてを類似度の降順で一列にならべる（98x23の類似度が一列に並ぶ）。\n",
        "3. 次の手順で学生-ファカルティの1対1のペアを98組作る。結果として学生は1つのペアに属する。ファカルティは4または5のペアに属する。各ファカルティの所属ペア数をゼロに初期設定する。\n",
        "4. ソート列から先頭の1ペアを取り出す。これをペアとして登録する。\n",
        "5. 4.でペアとなった学生が属するペアの類似度データ全てをソート列から削除する。\n",
        "6. 4.でペアとなったファカルティの所属ペア数を1増やす。その結果所属ペア数が5になった場合、そのファカルティが属するペアの類似度データ全てをソート列から削除する。\n",
        "7. ソート列が空になったら終わり。空でなければ4.に戻る\n",
        "---\n",
        "実行の結果、3名以下の学生しか担当しない教員が生じる（できるだけ均等に割り振るという目的から外れる）ことが分かったので、アルゴリズムを再考し、以下の通り、GPT-4に指示：\n",
        "\n",
        "---\n",
        "属するペア数が少ないファカルティが存在することを防ぐように、アルゴリズムを改良しました。次の手順のプログラムを作成して下さい。\n",
        "1. 全学生-全ファカルティ間の埋め込みのコサイン類似度を計算する。\n",
        "2. すべてを類似度の降順で一列にならべる（98x23の類似度が一列に並ぶ）。→93x23\n",
        "3. 次の手順で学生-ファカルティの1対1のペアを98 (-> 93)組作る。結果として学生は1つのペアに属する。ファカルティは4つまたは5つのペアに属する。各ファカルティの所属ペア数をゼロに初期設定する。「5個のペアに属するファカルティ数」をゼロに初期設定する。\n",
        "4. ソート列から先頭の1ペアを取り出す。これをペアとして登録する。\n",
        "5. 4.でペアとなった学生が属するペアの類似度データ全てをソート列から削除する。\n",
        "6. 4.でペアとなったファカルティの所属ペア数を1増やす。その結果所属ペア数が5になった場合、そのファカルティが属するペアの類似度データ全てをソート列から削除する。\n",
        "所属ペア数が5になった場合は、「5個のペアに属するファカルティ数」を1増やす。これが6 (-> 1)になった場合は、所属ペア数が4であるファカルティが属するペアの類似度データ全てをソート列から削除する。\n",
        "7. ソート列が空になったら終わり。空でなければ4.に戻る。"
      ],
      "metadata": {
        "id": "aF-U5YWs2EEO"
      }
    },
    {
      "cell_type": "code",
      "source": [
        "# Step 1: Re-calculate cosine similarity\n",
        "cos_sim = cosine_similarity(st_embeddings_np, fa_embeddings_np)\n",
        "\n",
        "# Step 2: Flatten and sort by similarity in descending order\n",
        "cos_sim_flat = cos_sim.flatten()\n",
        "sorted_indices = np.argsort(-cos_sim_flat)\n",
        "sorted_flat_indices = sorted_indices\n",
        "\n",
        "# Convert flat indices to 2D indices (student, faculty)\n",
        "num_students, num_faculties = cos_sim.shape\n",
        "student_indices, faculty_indices = np.unravel_index(sorted_flat_indices, (num_students, num_faculties))\n",
        "\n",
        "# Step 3: Initialize pair counts and the counter for faculties with 5 pairs\n",
        "faculty_pair_counts = np.zeros(num_faculties, dtype=int)\n",
        "faculties_with_5_pairs = 0\n",
        "\n",
        "# Initialize lists to store final pairs\n",
        "final_pairs = []\n",
        "\n",
        "# Track used students and faculties to remove them from consideration as needed\n",
        "used_students = set()\n",
        "used_faculties = set()\n",
        "\n",
        "while sorted_flat_indices.size > 0:\n",
        "    for i, flat_index in enumerate(sorted_flat_indices):\n",
        "        student_index, faculty_index = np.unravel_index(flat_index, (num_students, num_faculties))\n",
        "\n",
        "        # Skip if student or faculty already used\n",
        "        if student_index in used_students or faculty_index in used_faculties:\n",
        "            continue\n",
        "\n",
        "        # Step 4: Register the pair\n",
        "        final_pairs.append((student_index, faculty_index))\n",
        "        used_students.add(student_index)\n",
        "        faculty_pair_counts[faculty_index] += 1\n",
        "\n",
        "        # Step 5 & 6: Remove used student and update faculty pair count\n",
        "        if faculty_pair_counts[faculty_index] == 5:\n",
        "            faculties_with_5_pairs += 1\n",
        "            used_faculties.add(faculty_index)\n",
        "\n",
        "        # Break the loop after registering a pair to update the sorting\n",
        "        break\n",
        "\n",
        "    # Update sorted indices to remove used students and faculties\n",
        "    remaining_indices = [i for i, (s_i, f_i) in enumerate(zip(student_indices, faculty_indices))\n",
        "                         if s_i not in used_students and f_i not in used_faculties]\n",
        "    sorted_flat_indices = sorted_flat_indices[remaining_indices]\n",
        "    student_indices, faculty_indices = np.unravel_index(sorted_flat_indices, (num_students, num_faculties))\n",
        "\n",
        "    # Step 6: Check if it's time to remove faculties with 4 pairs\n",
        "    if faculties_with_5_pairs == 1:\n",
        "        for faculty_index in range(num_faculties):\n",
        "            if faculty_pair_counts[faculty_index] == 4:\n",
        "                used_faculties.add(faculty_index)  # Remove faculties with 4 pairs\n",
        "\n",
        "        # Update sorted indices to remove faculties with 4 pairs\n",
        "        remaining_indices = [i for i, (s_i, f_i) in enumerate(zip(student_indices, faculty_indices))\n",
        "                             if s_i not in used_students and f_i not in used_faculties]\n",
        "        sorted_flat_indices = sorted_flat_indices[remaining_indices]\n",
        "        student_indices, faculty_indices = np.unravel_index(sorted_flat_indices, (num_students, num_faculties))\n",
        "\n",
        "# Verify final pairings\n",
        "len(final_pairs), final_pairs[:10]  # Show first 10 pairs for brevity\n"
      ],
      "metadata": {
        "id": "hsJSRYeSzovy"
      },
      "execution_count": null,
      "outputs": []
    },
    {
      "cell_type": "markdown",
      "source": [
        "GPT-4への指示：\n",
        "\n",
        "このペアリングの結果を次の2つのファイルに書き加えて下さい。\n",
        "\n",
        "updated_2023students.csv: このファイルのpair列に、ペアとなったファカルティを表示して下さい。ファカルティはfaculty.csvのname列の名前（faculty.csvの掲載順とfa_embeddingsの掲載順は一致しています）で表示して下さい。\n",
        "\n",
        "updated_faculty.csv: このファイルのpair列に、ペアとなった学生のリストを表示して下さい。学生は2023students.csvのid列の番号（これst_はembeddingsの順番と一致しています）で表示して下さい。"
      ],
      "metadata": {
        "id": "VkVE8N632T4v"
      }
    },
    {
      "cell_type": "code",
      "source": [
        "# Re-import pandas after reset\n",
        "import pandas as pd\n",
        "\n",
        "# Load the updated CSV files again\n",
        "# student_df = pd.read_csv('/content/drive/MyDrive/Colab_files/updated_2023students.csv')\n",
        "# faculty_df = pd.read_csv('/content/drive/MyDrive/Colab_files/updated_faculty.csv')\n",
        "student_df = pd.read_csv('/content/drive/MyDrive/Colab_files/updated_2024students.csv')\n",
        "faculty_df = pd.read_csv('/content/drive/MyDrive/Colab_files/updated_2024faculty.csv')\n",
        "\n",
        "# Extract the final pairs from the previous output\n",
        "# final_pairs = [\n",
        "    # (97, 3), (21, 9), (40, 1), (2, 3), (50, 18), (0, 18), (56, 18), (81, 18), (77, 0), (10, 18),\n",
        "    # This list should continue with all pairs generated in the final output\n",
        "# ]\n",
        "\n",
        "# Reset 'pair' columns in both DataFrames\n",
        "student_df['pair'] = ''\n",
        "faculty_df['pair'] = [[] for _ in range(len(faculty_df))]\n",
        "\n",
        "# Update the 'pair' column in students_df with the names of paired faculties\n",
        "for student_index, faculty_index in final_pairs:\n",
        "    faculty_name = faculty_df.iloc[faculty_index]['name']\n",
        "    student_df.at[student_index, 'pair'] = faculty_name\n",
        "\n",
        "# Update the 'pair' column in faculty_df with the list of paired students\n",
        "for student_index, faculty_index in final_pairs:\n",
        "    student_id = student_df.iloc[student_index]['id']\n",
        "    if type(faculty_df.at[faculty_index, 'pair']) == list:\n",
        "        faculty_df.at[faculty_index, 'pair'].append(student_id)\n",
        "    else:\n",
        "        faculty_df.at[faculty_index, 'pair'] = [student_id]\n",
        "\n",
        "# Convert lists in 'pair' column of faculty_df to a semicolon-separated string for consistency\n",
        "faculty_df['pair'] = faculty_df['pair'].apply(lambda x: '; '.join(map(str, x)) if isinstance(x, list) else x)\n",
        "\n",
        "# Save the updated dataframes back to new CSV files\n",
        "# updated_students_csv_path = '/content/drive/MyDrive/Colab_files/final_updated_2023students.csv'\n",
        "# updated_faculty_csv_path = '/content/drive/MyDrive/Colab_files/final_updated_faculty.csv'\n",
        "updated_students_csv_path = '/content/drive/MyDrive/Colab_files/final_updated_2024students.csv'\n",
        "updated_faculty_csv_path = '/content/drive/MyDrive/Colab_files/final_updated_2024faculty.csv'\n",
        "\n",
        "student_df.to_csv(updated_students_csv_path, index=False)\n",
        "faculty_df.to_csv(updated_faculty_csv_path, index=False)\n",
        "\n",
        "updated_students_csv_path, updated_faculty_csv_path"
      ],
      "metadata": {
        "id": "cf80ieok1ThC"
      },
      "execution_count": null,
      "outputs": []
    },
    {
      "cell_type": "markdown",
      "source": [
        "GPT-4への指示：\n",
        "\n",
        "このファイルの各行に対して、pair列に現れた数字はsimilarity列でも現れますが、その出現箇所に*を付けて、pair列と共通する数字であることを強調して下さい。"
      ],
      "metadata": {
        "id": "vKFE-iK6MF7b"
      }
    },
    {
      "cell_type": "code",
      "source": [
        "import pandas as pd\n",
        "\n",
        "# Load the CSV file to inspect its contents and structure\n",
        "file_path = '/content/drive/MyDrive/Colab_files/final_updated_2024faculty.csv'\n",
        "df = pd.read_csv(file_path)\n",
        "\n",
        "# Display the first few rows of the dataframe to understand its structure\n",
        "df.head()"
      ],
      "metadata": {
        "id": "QS04Zo4MMGiG"
      },
      "execution_count": null,
      "outputs": []
    },
    {
      "cell_type": "code",
      "source": [
        "from openpyxl import Workbook\n",
        "from openpyxl.styles import Font\n",
        "\n",
        "# Create a new Excel workbook and select the active worksheet\n",
        "wb = Workbook()\n",
        "ws = wb.active\n",
        "\n",
        "# Set column titles\n",
        "ws.append([\"id\", \"name\", \"description\", \"pair\", \"similarity (with emphasized numbers)\"])\n",
        "\n",
        "# Define a function to emphasize numbers in similarity column based on pair column\n",
        "def emphasize_numbers(pair_str, similarity_str):\n",
        "    pairs = pair_str.split(';')\n",
        "    pairs = [p.strip() for p in pairs]  # Remove whitespace\n",
        "    emphasized_similarity = []\n",
        "\n",
        "    # Split the similarity string into elements and check each one\n",
        "    for num in similarity_str.split(';'):\n",
        "        num_stripped = num.strip()  # Remove leading/trailing whitespaces\n",
        "        if num_stripped in pairs:\n",
        "            # If the number is in pairs, emphasize it\n",
        "            emphasized_similarity.append(f\"*{num_stripped}*\")\n",
        "        else:\n",
        "            emphasized_similarity.append(num_stripped)\n",
        "\n",
        "    # Join the processed numbers back into a string\n",
        "    return '; '.join(emphasized_similarity)\n",
        "\n",
        "# Process each row in the dataframe\n",
        "for index, row in df.iterrows():\n",
        "    # Apply the emphasize function\n",
        "    emphasized_similarity = emphasize_numbers(row['pair'], row['similarity'])\n",
        "\n",
        "    # Append row with emphasized numbers in similarity column\n",
        "    ws.append([row['id'], row['name'], row['description'], row['pair'], emphasized_similarity])\n",
        "\n",
        "# Save the workbook to a new Excel file\n",
        "output_file_path = '/content/drive/MyDrive/Colab_files/final_updated_2024faculty_emphasized.xlsx'\n",
        "wb.save(output_file_path)\n",
        "\n",
        "output_file_path"
      ],
      "metadata": {
        "id": "T15TDbOlNHeS"
      },
      "execution_count": null,
      "outputs": []
    },
    {
      "cell_type": "markdown",
      "source": [
        "# 評価"
      ],
      "metadata": {
        "id": "z16ejW-c13Gq"
      }
    },
    {
      "cell_type": "markdown",
      "source": [
        "評価は後日実施、ここに記載します。以下、現時点で予想される問題点や限界などを記しておきます。"
      ],
      "metadata": {
        "id": "R079bMY66u2p"
      }
    },
    {
      "cell_type": "markdown",
      "source": [
        "## 教員情報として用いる情報の妥当性評価"
      ],
      "metadata": {
        "id": "V3N55sD12foK"
      }
    },
    {
      "cell_type": "markdown",
      "source": [
        "人手で割り当てる場合は、「HP掲載の教員情報としては書かれていないが、教員同士として知っている情報」を利用しているはず。そうした情報の欠落がある分、自動割り当ての精度が下がると予想される。\n",
        "\n",
        "今年の試行結果に対して人手で割り当てを修正した内容を分析し、それに基づいて教員情報を加筆修正する予定。ただし、この方法は今年のデータに過剰適応する恐れがある。\n",
        "\n",
        "解説記事を参照して改善案を検討予定 ⇒ [桂井麻里衣，「学術データに基づく研究者の特徴表現」，人工知能，vol. 38, no. 3, pp. 392–398, 2023.](https://www.jstage.jst.go.jp/article/jjsai/38/3/38_392/_article/-char/ja/)"
      ],
      "metadata": {
        "id": "C7iYaqo_2vyh"
      }
    },
    {
      "cell_type": "markdown",
      "source": [
        "## 自動割り当てに対する人手による修正の手間とその削減方法"
      ],
      "metadata": {
        "id": "tpnk3ElCt30Q"
      }
    },
    {
      "cell_type": "markdown",
      "source": [
        "今回の試行では、次の手順で13名の割り当てを人手で修正した（これ以外にデータの重複による修正が1件）：\n",
        "\n",
        "1. 自動割り当てに対して不適切なものを人手で見つける\n",
        "2. 当該の学生を適切な教員に人手で移動する\n",
        "3. 移動先の教員に割り当てられた学生の中からもっとも移動に適した学生を移動元の教員に人手で移す\n",
        "\n",
        "なお、例外的に3教員間で割り当てを交換した事例が1件あった。\n",
        "\n",
        "次年度はこの修正手続きの手間を削減することが望まれる。\n",
        "* 手順3.の候補をコサイン類似度に基づき自動で表示することは有効かもしれない。\n",
        "* 自動割り当ての結果に対して、インタラクティブに人手で修正を指示することができ、修正結果が自動的に更新されるようなインタフェースを作成すると、修正の手間が激減すると考えられるが、インタフェースの開発のコストとの兼ね合いを考慮する必要がある。\n",
        "* 「修正指示があった13件（今年の場合）の割り当てを固定して、それ以外の割り当てをコサイン類似度に応じてすべてやり直す」という方法は避けるべきだと考えている。なぜならば、やり直した割り当てを再度目視でチェックし直さないといけないので、手間の削減に反するからである。修正指示に対応した割り当ての変更は最小限にするのが望ましいだろう。"
      ],
      "metadata": {
        "id": "3ZE0NNjVt3dK"
      }
    },
    {
      "cell_type": "markdown",
      "source": [
        "## 埋め込みの妥当性評価"
      ],
      "metadata": {
        "id": "djiSthJ817u7"
      }
    },
    {
      "cell_type": "markdown",
      "source": [
        "1.   埋め込みで用いるセンテンスBERTモデルの精度は、元のBERTのサイズや学習データの量、学習データの質、センテンスBERT学習時の学習データの量と質、学習データと本タスクでのデータとの近さ、に依存するため、これらを見直すことにより、埋め込み変換の精度が向上することが期待できる。\n",
        "2.   本タスクでの割り当てを決める際に、特に重要なキーワードや表現などが存在するはずであるが、本タスクで使用する事例でのファインチューニングは実施していないため、これは反映できていない。ただし、センテンスBERT学習時の学習データの性質が本タスクでのデータの性質の一部をとらえていれば、その範囲では、重要なキーワードや表現などが反映できている可能性はある。\n",
        "\n",
        "\n"
      ],
      "metadata": {
        "id": "QlOjg5qm30is"
      }
    },
    {
      "cell_type": "markdown",
      "source": [
        "## コサイン類似度の妥当性評価"
      ],
      "metadata": {
        "id": "cvNtCJDU2J-f"
      }
    },
    {
      "cell_type": "markdown",
      "source": [
        "## 割り当てアルゴリズムの妥当性評価と改良案"
      ],
      "metadata": {
        "id": "ycxGxLN42SBx"
      }
    },
    {
      "cell_type": "markdown",
      "source": [
        "* 損失関数を最小化するアルゴリズムではなく、類似度が大きい順にペアを決定していくというヒューリスティクスに従い決定的に割り当てを決めていき、後戻りしないアルゴリズム（貪欲法：greedy algorithm）を採用したため、限界はある。ただ、本タスクは厳密な最適解を求める必要性は低いと考えられるため、貪欲法による近似解で大きな問題は生じないと予想している。\n",
        "\n",
        "* 現時点で気づいている課題としては、次の点がある。学生の作文群全体の分布に対して距離が近い教員と遠い教員が存在し、近い教員からペアが作られていくため、近い教員の場合は、学生全員を類似度でソートしたときの上位の学生が割り当てられる傾向があり、遠い教員の場合は、類似度が上位の学生が割り当てられにくい傾向がある（先に他の教員に割り当てられるため）。この課題に対しては、教員情報を加筆修正する方法で緩和することを試みた。この試みがどの程度有効であったかは後日報告する。\n",
        "\n",
        "* 次の方法は試みる価値があると予想している。今年の割り当て結果を使って来年の割り当てを行う。具体的には、来年は、今年の学生と来年の学生の埋め込みを比べて、来年の学生に一番近い今年の学生の割り当て教員に来年の学生を割り当てる。\n",
        "\n",
        "* 上記の方法が良さそうだと考える根拠：学生の作文と教員情報は異なる性質を持つため類似度による自動割り当てに限界があるが、学生の作文どうしは、類似のフォーマットであるため、類似度による割り当てがより適切に行える可能性があるだろう。"
      ],
      "metadata": {
        "id": "4jD0jZIZ7L_E"
      }
    }
  ]
}