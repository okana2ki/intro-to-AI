{
  "nbformat": 4,
  "nbformat_minor": 0,
  "metadata": {
    "colab": {
      "provenance": [],
      "include_colab_link": true
    },
    "kernelspec": {
      "name": "python3",
      "display_name": "Python 3"
    },
    "language_info": {
      "name": "python"
    }
  },
  "cells": [
    {
      "cell_type": "markdown",
      "metadata": {
        "id": "view-in-github",
        "colab_type": "text"
      },
      "source": [
        "<a href=\"https://colab.research.google.com/github/okana2ki/intro-to-AI/blob/main/image_recognition_finetuning.ipynb\" target=\"_parent\"><img src=\"https://colab.research.google.com/assets/colab-badge.svg\" alt=\"Open In Colab\"/></a>"
      ]
    },
    {
      "cell_type": "code",
      "execution_count": null,
      "metadata": {
        "id": "_c4lddgZvU_s"
      },
      "outputs": [],
      "source": [
        "import json\n",
        "import urllib.request\n",
        "import torch\n",
        "from torchvision import models, transforms\n",
        "from PIL import Image\n",
        "\n",
        "# ImageNetのクラス名をダウンロードします\n",
        "class_idx = json.load(urllib.request.urlopen('https://raw.githubusercontent.com/anishathalye/imagenet-simple-labels/master/imagenet-simple-labels.json'))\n",
        "\n",
        "# 学習済みのResNet50モデルをロードします\n",
        "resnet = models.resnet50(pretrained=True)\n",
        "resnet.eval()\n",
        "\n",
        "# 入力画像を処理するための変換を定義します\n",
        "transform = transforms.Compose([\n",
        "    transforms.Resize(256),\n",
        "    transforms.CenterCrop(224),\n",
        "    transforms.ToTensor(),\n",
        "    transforms.Normalize(mean=[0.485, 0.456, 0.406], std=[0.229, 0.224, 0.225]),\n",
        "])\n",
        "\n",
        "while True:\n",
        "    # ユーザーに画像URLを入力させます\n",
        "    img_url = input(\"画像のURLを入力してください（終了するには'q'を入力）：\")\n",
        "\n",
        "    if img_url.lower() == 'q':\n",
        "        break\n",
        "\n",
        "    # URLから画像をダウンロードし、メモリ内で開きます\n",
        "    with urllib.request.urlopen(img_url) as url:\n",
        "        img = Image.open(url)\n",
        "\n",
        "    # 画像を変換します\n",
        "    img_t = transform(img)\n",
        "    batch_t = torch.unsqueeze(img_t, 0)\n",
        "\n",
        "    # モデルを使って画像を推測します\n",
        "    resnet.eval()\n",
        "    out = resnet(batch_t)\n",
        "\n",
        "    # ソフトマックス関数を適用して確率を計算します\n",
        "    probs = torch.nn.functional.softmax(out, dim=1)[0] * 100\n",
        "\n",
        "    # 上位3つの予測結果を取得します\n",
        "    _, indices = torch.topk(probs, 3)\n",
        "    percentages = probs[indices]\n",
        "\n",
        "    # 推測結果を表示します\n",
        "    for idx, percentage in zip(indices, percentages):\n",
        "        print(\"クラス:\", class_idx[idx.item()], \", 確信度:\", percentage.item())\n",
        "\n",
        "    print('\\n' + '=' * 50 + '\\n')"
      ]
    },
    {
      "cell_type": "markdown",
      "source": [
        "ファインチューニングの練習　2024/4/30"
      ],
      "metadata": {
        "id": "VXj_dJwrgAUu"
      }
    },
    {
      "cell_type": "markdown",
      "source": [
        "ファインチューニング用のデータの準備"
      ],
      "metadata": {
        "id": "NCqehDQpgqfe"
      }
    },
    {
      "source": [
        "from tensorflow.keras.datasets import cifar10\n",
        "\n",
        "# Load the CIFAR-10 dataset\n",
        "(train_images, train_labels), (test_images, test_labels) = cifar10.load_data()\n",
        "\n",
        "# Normalize the pixel values\n",
        "train_images = train_images / 255.0\n",
        "test_images = test_images / 255.0\n",
        "\n",
        "print(\"Train images shape:\", train_images.shape)\n",
        "print(\"Train labels shape:\", train_labels.shape)\n",
        "print(\"Test images shape:\", test_images.shape)\n",
        "print(\"Test labels shape:\", test_labels.shape)"
      ],
      "cell_type": "code",
      "metadata": {
        "id": "NKxH1SfkbD9m"
      },
      "execution_count": null,
      "outputs": []
    },
    {
      "cell_type": "markdown",
      "source": [
        "事前学習モデルをロードして、ファインチューニング"
      ],
      "metadata": {
        "id": "MHkOqA9_gwuG"
      }
    },
    {
      "source": [
        "import tensorflow as tf\n",
        "from tensorflow.keras.applications import VGG16\n",
        "from tensorflow.keras.models import Model\n",
        "from tensorflow.keras.layers import Flatten, Dense\n",
        "\n",
        "# 1. Load the pre-trained VGG16 model\n",
        "base_model = VGG16(weights='imagenet', include_top=False)\n",
        "\n",
        "# 2. Freeze the convolutional layers in the base model\n",
        "for layer in base_model.layers:\n",
        "    layer.trainable = False\n",
        "\n",
        "# 3. Add new fully connected layers on top of the base model\n",
        "x = Flatten()(base_model.output)\n",
        "x = Dense(256, activation='relu')(x)\n",
        "predictions = Dense(10, activation='softmax')(x)\n",
        "\n",
        "# 4. Create the new model\n",
        "model = Model(inputs=base_model.input, outputs=predictions)\n",
        "\n",
        "# 5. Load the training and validation data\n",
        "# train_data = ...\n",
        "# validation_data = ...\n",
        "\n",
        "# 6. Compile the model\n",
        "model.compile(optimizer='adam', loss='categorical_crossentropy', metrics=['accuracy'])\n",
        "\n",
        "# 7. Train the model\n",
        "# model.fit(train_data, validation_data=validation_data, epochs=5)\n",
        "model.fit(train_images, train_labels, epochs=5, validation_data=(test_images, test_labels))\n",
        "\n",
        "# 8. Save the model\n",
        "model.save('fine_tuned_model.h5')"
      ],
      "cell_type": "code",
      "metadata": {
        "id": "slXpCWPWZZuN"
      },
      "execution_count": null,
      "outputs": []
    }
  ]
}